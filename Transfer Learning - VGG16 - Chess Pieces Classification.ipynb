{
  "cells": [
    {
      "cell_type": "code",
      "execution_count": null,
      "metadata": {
        "id": "GA1ZaC1FCG7B"
      },
<<<<<<< Updated upstream
        }
      ],
=======
      "outputs": [],
>>>>>>> Stashed changes
      "source": [
        "! pip install kaggle\n",
        "! mkdir ~/.kaggle\n",
        "! cp kaggle.json ~/.kaggle/\n",
        "! chmod 600 ~/.kaggle/kaggle.json\n",
        "! kaggle datasets download niteshfre/chessman-image-dataset\n",
        "! unzip chessman-image-dataset.zip"
      ]
    },
    {
      "cell_type": "code",
      "execution_count": null,
      "metadata": {
        "id": "fXbjx6kZCfXN",
        "colab": {
          "base_uri": "https://localhost:8080/"
        },
        "outputId": "47865cd7-12c2-4f87-8c57-67819e74dd87"
      },
      "outputs": [
        {
          "output_type": "stream",
          "name": "stdout",
          "text": [
            "Collecting split-folders\n",
            "  Downloading split_folders-0.4.3-py3-none-any.whl (7.4 kB)\n",
            "Installing collected packages: split-folders\n",
            "Successfully installed split-folders-0.4.3\n"
          ]
        }
      ],
      "source": [
        "pip install split-folders"
      ]
    },
    {
      "cell_type": "code",
      "execution_count": null,
      "metadata": {
        "colab": {
          "base_uri": "https://localhost:8080/"
        },
        "id": "fM3_m1Q3CG3Y",
        "outputId": "1b695858-7d77-46aa-b961-4f6c9e834dee"
      },
      "outputs": [
        {
          "output_type": "stream",
          "name": "stderr",
          "text": [
            "Copying files: 556 files [00:00, 3208.10 files/s]\n"
          ]
        }
      ],
      "source": [
        "\n",
        "\n",
        "import splitfolders  # or import split_folders\n",
        "\n",
        "# Split with a ratio.\n",
        "# To only split into training and validation set, set a tuple to `ratio`, i.e, `(.8, .2)`.\n",
        "splitfolders.ratio(\"Chessman-image-dataset/Chess\", output=\"Chess\",seed = 1200,  ratio=(.75, .25), group_prefix=None) # default values"
      ]
    },
    {
      "cell_type": "code",
      "execution_count": null,
      "metadata": {
        "id": "yJhF1zgLCG1i"
      },
      "outputs": [],
      "source": [
        "import numpy as np\n",
        "import tensorflow as tf\n",
        "from tensorflow import keras\n",
        "from keras.layers import Input, Lambda, Dense, Flatten, Dropout, GaussianNoise\n",
        "from keras.models import Model\n",
        "from keras.applications.vgg16 import VGG16\n",
        "from keras.applications.vgg16 import preprocess_input\n",
        "#from keras.applications.mobilenet import Mobilenet\n",
        "from keras.preprocessing import image\n",
        "from keras.preprocessing.image import ImageDataGenerator\n",
        "from keras.models import Sequential\n",
        "import numpy as np\n",
        "from glob import glob\n",
        "import matplotlib.pyplot as plt\n"
      ]
    },
    {
      "cell_type": "code",
      "execution_count": null,
      "metadata": {
        "id": "IWMxIjTQCGzi"
      },
      "outputs": [],
      "source": [
        "from keras.preprocessing.image import ImageDataGenerator\n",
        "class_names = ['Bishop', 'King','Knight','Pawn','Queen','Rook']\n",
        "image_size=(224,224)\n",
        "IMAGE_SIZE = [224, 224]\n",
        "#batch_size = 8\n",
        "datagen = ImageDataGenerator(\n",
        "        rescale=1./255,\n",
        "        zoom_range=0.5,\n",
        "        #shear_range=3,\n",
        "        horizontal_flip=True,\n",
        "        preprocessing_function=preprocess_input,\n",
        "        #fill_mode='nearest') \n",
        ")\n",
        "\n",
        "test_datagen = ImageDataGenerator(\n",
        "        rescale=1./255,\n",
        "        #zoom_range=5,\n",
        "        #shear_range=3,\n",
        "        horizontal_flip=True,\n",
        "        preprocessing_function=preprocess_input,\n",
        "       # fill_mode='nearest')\n",
        ")\n",
        "train_gen = datagen.flow_from_directory(\n",
        "    'Chess/train',\n",
        "    target_size = image_size,\n",
        "    batch_size = 16,\n",
        "    classes = class_names,\n",
        "    class_mode = 'categorical',\n",
        "    color_mode = 'rgb',\n",
        "    shuffle=True)\n",
        "        \n",
        "test_gen = test_datagen.flow_from_directory(\n",
        "   'Chess/val',\n",
        "    target_size = image_size,\n",
        "    batch_size = 16,\n",
        "    classes = class_names,\n",
        "    class_mode = 'categorical',\n",
        "    color_mode = 'rgb',\n",
        "    shuffle=False)"
      ]
    },
    {
      "cell_type": "code",
      "execution_count": null,
      "metadata": {
        "colab": {
          "base_uri": "https://localhost:8080/"
        },
        "id": "DMXMYCrqCGxd",
        "outputId": "a33b81dd-6ef1-4b24-eede-9d27f101184a"
      },
      "outputs": [
        {
          "output_type": "stream",
          "name": "stdout",
          "text": [
            "Model: \"model_1\"\n",
            "_________________________________________________________________\n",
            " Layer (type)                Output Shape              Param #   \n",
            "=================================================================\n",
            " input_2 (InputLayer)        [(None, 224, 224, 3)]     0         \n",
            "                                                                 \n",
            " block1_conv1 (Conv2D)       (None, 224, 224, 64)      1792      \n",
            "                                                                 \n",
            " block1_conv2 (Conv2D)       (None, 224, 224, 64)      36928     \n",
            "                                                                 \n",
            " block1_pool (MaxPooling2D)  (None, 112, 112, 64)      0         \n",
            "                                                                 \n",
            " block2_conv1 (Conv2D)       (None, 112, 112, 128)     73856     \n",
            "                                                                 \n",
            " block2_conv2 (Conv2D)       (None, 112, 112, 128)     147584    \n",
            "                                                                 \n",
            " block2_pool (MaxPooling2D)  (None, 56, 56, 128)       0         \n",
            "                                                                 \n",
            " block3_conv1 (Conv2D)       (None, 56, 56, 256)       295168    \n",
            "                                                                 \n",
            " block3_conv2 (Conv2D)       (None, 56, 56, 256)       590080    \n",
            "                                                                 \n",
            " block3_conv3 (Conv2D)       (None, 56, 56, 256)       590080    \n",
            "                                                                 \n",
            " block3_pool (MaxPooling2D)  (None, 28, 28, 256)       0         \n",
            "                                                                 \n",
            " block4_conv1 (Conv2D)       (None, 28, 28, 512)       1180160   \n",
            "                                                                 \n",
            " block4_conv2 (Conv2D)       (None, 28, 28, 512)       2359808   \n",
            "                                                                 \n",
            " block4_conv3 (Conv2D)       (None, 28, 28, 512)       2359808   \n",
            "                                                                 \n",
            " block4_pool (MaxPooling2D)  (None, 14, 14, 512)       0         \n",
            "                                                                 \n",
            " block5_conv1 (Conv2D)       (None, 14, 14, 512)       2359808   \n",
            "                                                                 \n",
            " block5_conv2 (Conv2D)       (None, 14, 14, 512)       2359808   \n",
            "                                                                 \n",
            " block5_conv3 (Conv2D)       (None, 14, 14, 512)       2359808   \n",
            "                                                                 \n",
            " block5_pool (MaxPooling2D)  (None, 7, 7, 512)         0         \n",
            "                                                                 \n",
            " flatten_1 (Flatten)         (None, 25088)             0         \n",
            "                                                                 \n",
            " dense_3 (Dense)             (None, 1024)              25691136  \n",
            "                                                                 \n",
            " gaussian_noise_1 (GaussianN  (None, 1024)             0         \n",
            " oise)                                                           \n",
            "                                                                 \n",
            " dense_4 (Dense)             (None, 1024)              1049600   \n",
            "                                                                 \n",
            " dropout_1 (Dropout)         (None, 1024)              0         \n",
            "                                                                 \n",
            " dense_5 (Dense)             (None, 6)                 6150      \n",
            "                                                                 \n",
            "=================================================================\n",
            "Total params: 41,461,574\n",
            "Trainable params: 26,746,886\n",
            "Non-trainable params: 14,714,688\n",
            "_________________________________________________________________\n"
          ]
        }
      ],
      "source": [
        "\n",
        "\n",
        "#vgg = MobileNetV2(input_shape=IMAGE_SIZE + [3], weights='imagenet', include_top=False,classes=6,alpha=0.5)\n",
        "#vgg = MobileNet(input_shape=IMAGE_SIZE + [3], weights='imagenet', include_top=False,classes=6,alpha=0.25,dropout=0.4)\n",
        "\n",
        "\n",
        "# add preprocessing layer to the front of VGG\n",
        "vgg = VGG16(input_shape=IMAGE_SIZE + [3], weights='imagenet', include_top=False,classes=6)\n",
        "\n",
        "# don't train existing weights\n",
        "for layer in vgg.layers:\n",
        "  layer.trainable = False\n",
        " \n",
        "\n",
        "# our layers \n",
        "x = Flatten()(vgg.output)\n",
        "x = Dense(1024, activation='relu')(x)\n",
        "x = GaussianNoise(0.1)(x)\n",
        "x = Dense(1024, activation='relu')(x)\n",
        "x = Dropout(0.2)(x)\n",
        "prediction = Dense(6, activation='softmax')(x)\n",
        "\n",
        "# create a model object\n",
        "model = Model(inputs=vgg.input, outputs=prediction)\n",
        "\n",
        "# view the structure of the model\n",
        "model.summary()\n",
        "\n",
        "#customized our learning rate from Adam's default 0.001 to 0.00009\n",
        "optimizer = keras.optimizers.Adam(learning_rate=0.00009)\n",
        "# tell the model what cost and optimization method to use\n",
        "model.compile(\n",
        "  loss='categorical_crossentropy',\n",
        "  optimizer=optimizer,\n",
        "  metrics=['accuracy']\n",
        ")\n",
        "\n"
      ]
    },
    {
      "cell_type": "code",
      "execution_count": null,
      "metadata": {
        "id": "E-VAnpBPBfAo"
      },
      "outputs": [],
      "source": [
        "from keras.callbacks import ReduceLROnPlateau\n",
        "learning_rate_reduction = ReduceLROnPlateau(monitor='val_accuracy', \n",
        "                                            patience=2, \n",
        "                                            verbose=1, \n",
        "                                            factor=0.5, \n",
        "                                            min_lr=0.000005) \n",
        "callback = [learning_rate_reduction]"
      ]
    },
    {
      "cell_type": "code",
      "execution_count": null,
      "metadata": {
        "colab": {
          "base_uri": "https://localhost:8080/"
        },
        "id": "ZQs1HWmHBfAp",
        "outputId": "49e6bf88-e13b-4384-d7a2-7cb530c71ebd"
      },
      "outputs": [
        {
          "output_type": "stream",
          "name": "stdout",
          "text": [
            "Epoch 1/20\n",
            "26/26 [==============================] - 24s 894ms/step - loss: 1.5672 - accuracy: 0.4000 - val_loss: 1.0067 - val_accuracy: 0.6746 - lr: 9.0000e-05\n",
            "Epoch 2/20\n",
            "26/26 [==============================] - 23s 897ms/step - loss: 1.0112 - accuracy: 0.6415 - val_loss: 0.7418 - val_accuracy: 0.7278 - lr: 9.0000e-05\n",
            "Epoch 3/20\n",
            "26/26 [==============================] - 24s 909ms/step - loss: 0.7348 - accuracy: 0.7220 - val_loss: 0.6101 - val_accuracy: 0.7870 - lr: 9.0000e-05\n",
            "Epoch 4/20\n",
            "26/26 [==============================] - 24s 915ms/step - loss: 0.6439 - accuracy: 0.7561 - val_loss: 0.6323 - val_accuracy: 0.7692 - lr: 9.0000e-05\n",
            "Epoch 5/20\n",
            "26/26 [==============================] - ETA: 0s - loss: 0.5196 - accuracy: 0.8098\n",
            "Epoch 00005: ReduceLROnPlateau reducing learning rate to 4.5000000682193786e-05.\n",
            "26/26 [==============================] - 24s 907ms/step - loss: 0.5196 - accuracy: 0.8098 - val_loss: 0.6536 - val_accuracy: 0.7515 - lr: 9.0000e-05\n",
            "Epoch 6/20\n",
            "26/26 [==============================] - 24s 910ms/step - loss: 0.4549 - accuracy: 0.8415 - val_loss: 0.5837 - val_accuracy: 0.7751 - lr: 4.5000e-05\n",
            "Epoch 7/20\n",
            "26/26 [==============================] - 24s 912ms/step - loss: 0.3960 - accuracy: 0.8707 - val_loss: 0.5546 - val_accuracy: 0.8047 - lr: 4.5000e-05\n",
            "Epoch 8/20\n",
            "26/26 [==============================] - 24s 940ms/step - loss: 0.3335 - accuracy: 0.8854 - val_loss: 0.4716 - val_accuracy: 0.8402 - lr: 4.5000e-05\n",
            "Epoch 9/20\n",
            "26/26 [==============================] - 26s 1s/step - loss: 0.3595 - accuracy: 0.8902 - val_loss: 0.4951 - val_accuracy: 0.8521 - lr: 4.5000e-05\n",
            "Epoch 10/20\n",
            "26/26 [==============================] - 26s 1s/step - loss: 0.2756 - accuracy: 0.9122 - val_loss: 0.4940 - val_accuracy: 0.8402 - lr: 4.5000e-05\n",
            "Epoch 11/20\n",
            "26/26 [==============================] - ETA: 0s - loss: 0.2414 - accuracy: 0.9341\n",
            "Epoch 00011: ReduceLROnPlateau reducing learning rate to 2.2500000341096893e-05.\n",
            "26/26 [==============================] - 27s 1s/step - loss: 0.2414 - accuracy: 0.9341 - val_loss: 0.4865 - val_accuracy: 0.8462 - lr: 4.5000e-05\n",
            "Epoch 12/20\n",
            "26/26 [==============================] - 28s 1s/step - loss: 0.2424 - accuracy: 0.9268 - val_loss: 0.5436 - val_accuracy: 0.8343 - lr: 2.2500e-05\n",
            "Epoch 13/20\n",
            "26/26 [==============================] - ETA: 0s - loss: 0.2475 - accuracy: 0.9098\n",
            "Epoch 00013: ReduceLROnPlateau reducing learning rate to 1.1250000170548446e-05.\n",
            "26/26 [==============================] - 28s 1s/step - loss: 0.2475 - accuracy: 0.9098 - val_loss: 0.4944 - val_accuracy: 0.8343 - lr: 2.2500e-05\n",
            "Epoch 14/20\n",
            "26/26 [==============================] - 28s 1s/step - loss: 0.2099 - accuracy: 0.9366 - val_loss: 0.4823 - val_accuracy: 0.8521 - lr: 1.1250e-05\n",
            "Epoch 15/20\n",
            "26/26 [==============================] - 27s 1s/step - loss: 0.1873 - accuracy: 0.9463 - val_loss: 0.4854 - val_accuracy: 0.8639 - lr: 1.1250e-05\n",
            "Epoch 16/20\n",
            "26/26 [==============================] - 27s 1s/step - loss: 0.2079 - accuracy: 0.9293 - val_loss: 0.4702 - val_accuracy: 0.8580 - lr: 1.1250e-05\n",
            "Epoch 17/20\n",
            "26/26 [==============================] - ETA: 0s - loss: 0.2099 - accuracy: 0.9439\n",
            "Epoch 00017: ReduceLROnPlateau reducing learning rate to 5.625000085274223e-06.\n",
            "26/26 [==============================] - 26s 1s/step - loss: 0.2099 - accuracy: 0.9439 - val_loss: 0.4784 - val_accuracy: 0.8639 - lr: 1.1250e-05\n",
            "Epoch 18/20\n",
            "26/26 [==============================] - 25s 975ms/step - loss: 0.1843 - accuracy: 0.9439 - val_loss: 0.4797 - val_accuracy: 0.8580 - lr: 5.6250e-06\n",
            "Epoch 19/20\n",
            "26/26 [==============================] - ETA: 0s - loss: 0.1723 - accuracy: 0.9512\n",
            "Epoch 00019: ReduceLROnPlateau reducing learning rate to 5e-06.\n",
            "26/26 [==============================] - 26s 985ms/step - loss: 0.1723 - accuracy: 0.9512 - val_loss: 0.4968 - val_accuracy: 0.8580 - lr: 5.6250e-06\n",
            "Epoch 20/20\n",
            "26/26 [==============================] - 26s 1s/step - loss: 0.1799 - accuracy: 0.9537 - val_loss: 0.4814 - val_accuracy: 0.8580 - lr: 5.0000e-06\n"
          ]
        }
      ],
      "source": [
        "history = model.fit(\n",
        "    train_gen,\n",
        "    epochs=20,\n",
        "    validation_data= test_gen,\n",
        "    callbacks = callback\n",
        "    )"
      ]
    },
    {
      "cell_type": "code",
      "execution_count": null,
      "metadata": {
        "colab": {
          "base_uri": "https://localhost:8080/",
          "height": 573
        },
        "id": "G3zJYKv6BfAp",
        "outputId": "b5d55115-e4c9-4b66-e390-e327c5bc3c2a"
      },
      "outputs": [
        {
          "output_type": "display_data",
          "data": {
            "image/png": "iVBORw0KGgoAAAANSUhEUgAAAYIAAAEWCAYAAABrDZDcAAAABHNCSVQICAgIfAhkiAAAAAlwSFlzAAALEgAACxIB0t1+/AAAADh0RVh0U29mdHdhcmUAbWF0cGxvdGxpYiB2ZXJzaW9uMy4yLjIsIGh0dHA6Ly9tYXRwbG90bGliLm9yZy+WH4yJAAAgAElEQVR4nO3dd3hUZdr48e9NOikEUoEkBKRXgYgiFlBRsGHDxY6N1V0L6+u6uuu6rqu77rvrriv6W197FxUsqCgWwF7oLaGEUJKQkBAgkwCp8/z+OCcwhIQMybRk7s91zcXMqfcMk3PPeaoYY1BKKRW8Ovk7AKWUUv6liUAppYKcJgKllApymgiUUirIaSJQSqkgp4lAKaWCnCYCFRREJFNEjIiEurHtdBH51hdxKRUINBGogCMiW0WkRkQSGy1fYV/MM/0TmVIdkyYCFai2AFc0vBCRYUBn/4UTGNy5o1HqWGkiUIHqVeBal9fXAa+4biAiXUTkFREpFZFtInK/iHSy14WIyD9FZJeI5AHnNbHv8yJSJCKFIvKwiIS4E5iIvCMixSJSLiJfi8gQl3VRIvKYHU+5iHwrIlH2ulNE5HsR2Ssi+SIy3V6+WERucjnGYUVT9l3Qr0VkE7DJXvYf+xgOEVkmIqe6bB8iIr8Xkc0iUmGvTxeRp0TksUbvZZ6I/Mad9606Lk0EKlD9CMSJyCD7Aj0NeK3RNrOALkAf4HSsxHG9ve5m4HxgJJAFXNZo35eAOqCvvc3ZwE245xOgH5AMLAded1n3T2A0cDLQDbgHcIpIL3u/WUAScDyw0s3zAVwEnAgMtl8vsY/RDXgDeEdEIu11d2HdTZ0LxAE3APuBl4ErXJJlInCWvb8KZsYYfegjoB7AVqwL1P3A34BJwOdAKGCATCAEqAEGu+z3S2Cx/XwhcIvLurPtfUOBFKAaiHJZfwWwyH4+HfjWzVjj7eN2wfphdQAY0cR29wHvNXOMxcBNLq8PO799/DNaiGNPw3mBDcCUZrbLASbaz28D5vv7/1sf/n9oeaMKZK8CXwO9aVQsBCQCYcA2l2XbgJ728x5AfqN1DXrZ+xaJSMOyTo22b5J9d/IIMBXrl73TJZ4IIBLY3MSu6c0sd9dhsYnI3cCNWO/TYP3yb6hcP9q5XgauxkqsVwP/aUNMqoPQoiEVsIwx27Aqjc8F3m20ehdQi3VRb5ABFNrPi7AuiK7rGuRj3REkGmPi7UecMWYILbsSmIJ1x9IF6+4EQOyYqoDjmtgvv5nlAPs4vCI8tYltDg4TbNcH3ANcDnQ1xsQD5XYMLZ3rNWCKiIwABgHvN7OdCiKaCFSguxGrWGSf60JjTD3wNvCIiMTaZfB3cage4W3gDhFJE5GuwL0u+xYBnwGPiUiciHQSkeNE5HQ34onFSiJlWBfvv7oc1wm8APxLRHrYlbZjRSQCqx7hLBG5XERCRSRBRI63d10JXCIinUWkr/2eW4qhDigFQkXkAaw7ggbPAX8RkX5iGS4iCXaMBVj1C68Cc40xB9x4z6qD00SgApoxZrMxZmkzq2/H+jWdB3yLVen5gr3uWWABsAqrQrfxHcW1QDiQjVW+Pgfo7kZIr2AVMxXa+/7YaP3dwBqsi+1u4O9AJ2PMdqw7m/+xl68ERtj7/BurvmMnVtHN6xzdAuBTYKMdSxWHFx39CysRfgY4gOeBKJf1LwPDsJKBUogxOjGNUsFERE7DunPqZfQCoNA7AqWCioiEAXcCz2kSUA00ESgVJERkELAXqwjscT+HowKIFg0ppVSQ0zsCpZQKcu2uQ1liYqLJzMz0dxhKKdWuLFu2bJcxJqmpde0uEWRmZrJ0aXOtCZVSSjVFRLY1t06LhpRSKshpIlBKqSCniUAppYJcu6sjaEptbS0FBQVUVVX5OxSvi4yMJC0tjbCwMH+HopTqIDpEIigoKCA2NpbMzExchhXucIwxlJWVUVBQQO/evf0djlKqg+gQRUNVVVUkJCR06CQAICIkJCQExZ2PUsp3OkQiADp8EmgQLO9TKeU7HaJoSCml2rO6eif7quupqK6lsrqOyqo6Kux/K13+PXNQMsPT4j1+fk0EHlBWVsaZZ54JQHFxMSEhISQlWR34fv75Z8LDw5vdd+nSpbzyyis88cQTPolVKeUb9U5DwZ79bNpZSW5pJXmllezdb1/oG13sD9TWu3XMpNgITQSBKiEhgZUrVwLw4IMPEhMTw913331wfV1dHaGhTX/UWVlZZGVl+SROpZTn1dY72Va2n9ySCjbtrGRTSSW5JZVsLq2kus55cLvk2Ai6RYcTGxlKQnQ4vRKiiYkIJTYylJiIUKIjQomNCCXGfh0Teeh1dEQo0eGhhHTyTtGwJgIvmT59OpGRkaxYsYJx48Yxbdo07rzzTqqqqoiKiuLFF19kwIABLF68mH/+85989NFHPPjgg2zfvp28vDy2b9/OzJkzueOOO/z9VpRqlX3VdawpLGfF9r2s2L6H3NJKxvZJYGpWOiPSuvi8vqveaah3tn605TqndcFvuNA3XPi3lu2jtv7QcdO6RtE3OYZxfRPolxxL35QY+ibHEBcZuE2+O1wi+POH68je4fDoMQf3iONPF7gzr/nhCgoK+P777wkJCcHhcPDNN98QGhrKF198we9//3vmzp17xD7r169n0aJFVFRUMGDAAG699VbtM6ACntNpyNtVyfLte1mxfS8r8/eyodhBw3U3M6EzmYnRzF1ewOs/bad/SgxTR6dz0cieJMVGeC2uPftq+DxnJ5+sKeK73DJq6p0t7+SGTgK9EqLpmxzDWYNT6JccQ7/kWI5LjqZzePu7rLa/iNuRqVOnEhISAkB5eTnXXXcdmzZtQkSora1tcp/zzjuPiIgIIiIiSE5OZufOnaSlpfkybKVatHtfDSvz97By+15W5FsX/oqqOgBiI0M5Pj2eiWf0Y2R6PCPS4+kWbdWTOapq+Xh1EW8vzeeR+Tn8/dP1TBiYzNTRaUwYmExYSNsbMpZWVPNZdjGfri3m+81l1DsNaV2juOqkDBJjWp90RCCta2f6JcfQOzGayLCQNscaKDpcImjNL3dviY6OPvj8j3/8IxMmTOC9995j69atjB8/vsl9IiIOfVFDQkKoq6vzdphKtehATT1zlxewdOtuVubvZWvZfsD6ZTwwNY4LRvRgZHo8IzO60icxmk7NlGXHRYZxxZgMrhiTQW5JBe8sLWDu8kI+z95JYkw4F4/sydSsdPqnxB5TfMXlVSxYV8z8NUUs2bobp4HeidH88rQ+TB7anaE947Tp9VF0uEQQqMrLy+nZsycAL730kn+DUT6XW1LJ/DVFpMRF0Dc5lr7JMXSJCvwiP2MMC9YV85ePcijce4Dk2AhGZsQzbUwGx6fHM6xnF6IjWncZ6Zscy33nDuLucwbw1YZS3lmWz4vfbeXZb7YwIj2eqaPTuGBEj2Y/p4I9+/l0bTGfrC1m2bY9APRPieG2M/px7rBUBqTE6sXfTZoIfOSee+7huuuu4+GHH+a8887zdzjKR9YXO5i1MJf5a4poPCtscmwE/VIaypZj7HLmGBLaUHzhSXmllfxp3jq+2bSLgamxzJ5xEif27ubxi2tYSCfOGpzCWYNT2FVZzfsrCpmzrID731/LXz7KZtLQVC7PSmdsnwS27d7PJ2uL+HRtMasLygEY3D2Ou8/uz6Sh3embHOPR2IJFu5uzOCsryzSemCYnJ4dBgwb5KSLfC7b32x6tLSxn1sJNLFi3k5iIUK4d24vrx/XmQE09m0oq2FRSebB9ee7OCvbVHGpH3i06nL5JMfRNiTlYCdk3OYaUuAif/MLdX1PHrIW5PPdNHpGhIfxmYn+uHduLUA+U37vLGMOawnLeWVrABysLcVTVERcZisOuhxiRHs/koalMHppKr4ToFo6mAERkmTGmybbqekeglAet2L6HWQtzWbi+hNjIUO44sx83jMskvvOhToUZCZ05c1DKwdfGGIrKq45olvjx6iLKDxxqVNAlKozJQ1OZmpXOqIx4jycFYwzz1xTz8MfZFJVXccmontw7eSDJsZEePY87RIThafEMT4vnD+cN4rPsnSxeX8KQnl2YNDSVnvFRPo+pI9NEoJQHLNm6mye+3MQ3m3YR3zmMu8/uz7UnZ7rVdlxE6BEfRY/4KE7vf2hKWWMMuypr2FRSQW5JJSu27+WDlTuYvSSf45KimZqVziUje5Ic1/YLdW5JJQ/OW8e3ubsY1D2OWVeMJCuzW5uP6wmRYSFcOKIHF47o4e9QOiwtGmqHgu39BipjDD/klTHry1x+yCsjITqcm0/rw9Un9SKmlRWoLamsrmO+3fxy6bY9hHQSTu+fxOVZaZwxMIXw0GMrvtlXXccTCzfxwrdbiAwL4e6zB3DViRk+LQZSvqFFQ0p5kDGGbzbt4okvN7F02x6SYyP44/mDuXJMBlHh3m1bHhMRyuUnpHP5CenklVYyZ1kBc5cXcMtrJXSLDuei43syNSuNQd3jWnwPH60u4pGPcyh2VDF1dBq/mzywTe3sVfuliUApNxljWLi+hCcW5rIqfy/du0Ty0JQhXJ6V7pfORX2SYrhn0kDumtifb3J38c7SfF79cSsvfLeFoT3juDwrnQtH9DisfgJg084K/jRvHd9vLmNIjzieumoUo3t19Xn8KnBoIlCqBU6n4bPsnTy5aBNrCx2kdY3irxcP49LRPYkI9X/v0tCQTkwYkMyEAcns2VfDBysLeXtpAQ98sI6HP8ph4pAULs9K5/j0eJ5cuIkXv9tK5/AQ/jJlCFee2MtrA5mp9kMTgQe0ZRhqgMWLFxMeHs7JJ5/s9ViV++qdhvlrinhyYS4bdlaQmdCZf1w2nItG9vTIUAje0DU6nOnjejN9XG/W7bCaX76/spCPVxcR0kmodxqmnZDOb88ZEDD9FZT/eTURiMgk4D9ACPCcMebRRut7AS8AScBu4GpjTIE3Y/KGloahbsnixYuJiYnRRBAg6uqdzFu1g6cW5bK5dB99k2N4/BfHc/7w7u2qEnVIjy4MubAL9507kC9zSvhhcxmXjOrJyAwtBlKH81oiEJEQ4ClgIlAALBGRecaYbJfN/gm8Yox5WUTOAP4GXOOtmHxp2bJl3HXXXVRWVpKYmMhLL71E9+7deeKJJ3j66acJDQ1l8ODBPProozz99NOEhITw2muvMWvWLE499VR/hx+UauudvLe8kKcW57KtbD8DU2N58sqRTB7avV0Xn0SEhnDusO6cO6y7v0NRAcqbdwRjgFxjTB6AiMwGpgCuiWAwcJf9fBHwfpvP+sm9ULymzYc5TOowmPxoy9vZjDHcfvvtfPDBByQlJfHWW2/xhz/8gRdeeIFHH32ULVu2EBERwd69e4mPj+eWW2455rsI5TnVdfW8s7SA/y7eTOHeAwztGcf/XTOaiYNSmh08TamOxJuJoCeQ7/K6ADix0TargEuwio8uBmJFJMEYU+a6kYjMAGYAZGRkeC1gT6murmbt2rVMnDgRgPr6erp3t36NDR8+nKuuuoqLLrqIiy66yJ9hBr2q2npm/7ydp7/Ko9hRxfHp8Tx80VDGD0jSwcpUUPF3ZfHdwJMiMh34GigEjpi80xjzDPAMWB3KjnrEY/jl7i3GGIYMGcIPP/xwxLqPP/6Yr7/+mg8//JBHHnmENWs8fPeiWrS/po7Xf9zO/32dx67KasZkduMfU4dzSt9ETQAqKHkzERQC6S6v0+xlBxljdmDdESAiMcClxpi9XozJJyIiIigtLeWHH35g7Nix1NbWsnHjRgYNGkR+fj4TJkzglFNOYfbs2VRWVhIbG4vD4dlZ1dSRKqpqeeWHbTz/7RZ276vh5OMSePLKkZzUJ8HfoSnlV95MBEuAfiLSGysBTAOudN1ARBKB3cYYJ3AfVguidq9Tp07MmTOHO+64g/Lycurq6pg5cyb9+/fn6quvpry8HGMMd9xxB/Hx8VxwwQVcdtllfPDBB1pZ3Aa19U5KKqopLj9AUXkVxeVV1r8O6/nG4goqqus4vX8Sd5zZl9G9AmMsHaX8zatjDYnIucDjWM1HXzDGPCIiDwFLjTHzROQyrJZCBqto6NfGmOqjHVPHGgq+9wtWcVv+7gMU7j3ATod9gW+44Nuvd1VWHzHmf1RYCN27RJLaJZL0rp258sQMRqTH++dNKOVHfhtryBgzH5jfaNkDLs/nAHO8GYNqv4wxrCoo55O1RXyyppjtu/cftj4uMpTULpGkdoliUGocqV0iD170U7tE0j0uirioUC33V6oF/q4sVuowTqdh+fY9zF9TzIJ1xRTuPUBoJ2Fc30RuPq0PfRKjrQt9XGSrp0hUSh2uw/wlGWOC4pdfexs23B119U5+3rqbT+yLf0lFNeGhnTitXyJ3TezPWYNS6NI58Of3Vaq96hCJIDIykrKyMhISEjp0MjDGUFZWRmSk72eM8rTaeiffby7j07VFLFi3k937aogMswZPmzQ0lTMGJhPrxqQuSqm26xCJIC0tjYKCAkpLS/0ditdFRkaSlpbm7zBapbqunm837WL+mmK+yNlJ+YFaosNDOGNQCpOHpjJ+QBKdwzvEV1KpdqVD/NWFhYXRu3dvf4ehmlFX7+SF77Yw68tcKqrriI0MZeKgFCYP686p/RL9Mpa/UuqQDpEIVOBaX+zgnjmrWV1QzpkDk7l6bC/GHZd4zFMqKqW8RxOB8oqaOidPLcrl/y3OJS4yjFlXjOT84d07dB2OaoazHnashMJl0LkbdM2E+F4QnQje/j4c2At7tloPxw6IToKuvawYopO8f/52QhOB8rhV+Xu5Z85qNuysYMrxPfjTBUPoFn30yXlUB2IM7NoEW76CvMWw9RuoKj9yu7Bo64J88NHr0PP4DAiLavlcdTVQnm9d6PduO3TRb3g0dd6D5+/scr5eh8cSnwHhnd1/z+2cJgLlMVW19fzr8408900eybGRPH9dFmcOSvF3WMoXHEWHLvx5X0HFDmt5fAYMngK9T4eMk6C6AvY0umDvzoO8RVB7eIdBYrsffoGO6wH7Slz23waOAjDOQ/uEhFvn7JoJaSccfqGP6wn7d7mc2yWOvK+gdt/h549JPTI5hfq5xV6PkZBwnMcPq4lAecRPeWX8bu5qtpbt54oxGdx37kDitPlnx1VVDlu/PXTh37XBWh7VDfqcbl34+4yHbk004khuYngUY2BfaaNf9PaFeuu3sPotrJFogJgU68Lca+yRv+Rju0Ono9Q/RSdA0oBmzr/L5a5iy6EYtv0Aa945POH4y3n/0kSgAk9ldR2PfpLDaz9uJ6NbZ9646URO7pvo77COVLMPyjZbF4FQnav3mDnrYfsPsHmRdfHfsdy6MIZ1hl4nw8irrQt/ytCjX4ibIwIxydYjfcyR6+uqoaLYqlcIj27jm2nu/EnWI62J4XjqasBRCM46z5/7WEQneeWwmghUqy3eUMLv311DkaOKG0/pzf+c3T9w+gHU10Lh8kPFFfk/g7MWQqOsX5J9xlu/WlOHt+7CFSwcO2DFa7D8VSjfDhJiXShPvdv6DNNOgFAf1P+ERljFNP4SGt703U0HESB/tao92bu/hoc+yubd5YX0TY5h7q0nM8rfE6IbAyU5LhWU30FNBSDQfTicdKs15WjhMmv95/bYh1HdoPephxJDtz7eaUlSX2u1YPFFS5m2qq+D3M9h2Uuw6TPrl3+f8TDxQeg7ESLj/Buf8jhNBOqYfLKmiD9+sI69+2u4/Yy+3HZGXyJC/dQhbG/+oQv/lq+hcqe1vFsfGHaZfXE/zWqy2GD45da/jiJrn4b9sz+wlnfJgD6nQZ8J1r4xye7FYgzs3314+bJrK5Zyu1IzLs2Kq6EcPTaAKtP3bIMVr1p3ABVFVln8uJkw6hrrM1UdllfnI/CGpuYjUN63q7KaP76/lk/WFjO0Zxx/v3Q4Q3p08W0Q+3dbTREbKih3b7aWRycdqpzsc7rVuuNYGGPVH+QtshLDlq8PNTtMHmIds8946JkF+8uaaaq4zb4DcRGdfHirk8h4yP/Jeg8H9ljbJA06FHevcb7/tV1fCxvmw7KXYfNCa1m/iTDqOuh/DoRohX9HcbT5CDQRqBYtWl/Cb+eswlFVx8yz+jHj1D6EhviwXN3phG8eg8V/A1NvtT/PPOXQBTp5sGeLW5z1ULTSSjZ5i2H7j1DfxHxJoVHNtIHvZb1urlLTWQ/Fq12O/wPUVVnl7z1HH0oMaSd4r2K7bDMsfxlWvmG11onrCSOvsSp949Nb3l+1O5oIVKscqKnnr/NzePXHbQxMjeU/00YyIDXWt0FUlcN7t1i/WodeCmNmWBdLX/5SrT1g/ZIvWg2xqYcu9jHJnklAtVVQ8POhxODaIidj7KHEkDKsbRXbddWQ86FV9r/1Gyvx9J8Eo6dD3zOhk4751JFpIlDHbG1hOTPfWkluSSU3ndKbu88Z4PvB4UrWw1tXWUUv5/zVSgKBXtHqCQf2wrbvDiWGhjb6EXFWcmitmkrrEd8LRl0Lx18Fcd09ErIKfH6bqlK1P/VOw7Pf5PHYZxvoFh3OazeeyCn9/NAvYN378P6vrG7+186DzHG+j8FfouJh4HnWA6wmnFu+hoIlVpl+a4WEW8fsfbo2mVWH0USgDtqx9wB3vb2SH/N2M3loKn+9eBhdfT1GkLMevnwIvnvcKiO//BVraIFgFtcDRkyzHkp5gSYCBcCHq3bwh/fWUO80/O9lw5k6Os33I4XuK4O5N1jFIaOvh8l/117ASvmAJoIg56iq5cEP1vHuikJGZsTz+C+Op1eCF7rwt2THSnjrGqgshgtnWWXYSimf0EQQxJZs3c3M2SspdlQx86x+3Dahr2+bhTZY+SZ8NBM6J8ANn1qtgpRSPqOJIAjV1jv5zxeb+H+Lc0nr2pm3fzmW0b38MEREXQ0s+D0seRYyT4XLXrQG/VJK+ZQmgiCzZdc+Zs5ewaqCcqaOTuNPFw4hJsIPX4OKYnhnutWZauxtcNafIUS/jkr5g/7lBQljDLOX5PPQh9mEh3bi/101inOH+akN+faf4O1rodoBlz5vjQuklPIbTQRB4t+fb+SJhbmM65vAY1OPJ7WLH2ZaMgaWPAef3gdd0uDquZA61PdxKKUO49WaQRGZJCIbRCRXRO5tYn2GiCwSkRUislpEzvVmPMHqg5WFPLEwl6mj03j1hhP9kwRq9sMHv4b5d8NxE2DGIk0CSgUIr90RiEgI8BQwESgAlojIPGNMtstm9wNvG2P+KyKDgflAprdiCkbLt+/ht3NWM6Z3Nx65eBidOvlhiIZt31tJYHcenP47OP1e7dmqVADxZtHQGCDXGJMHICKzgSmAayIwQMO4u12AHV6MJ+gU7j3AjFeWkRoXydNXjyY81McX3+pKq5fwz89YQ0NfO88aPE0pFVC8mQh6AvkurwuAExtt8yDwmYjcDkQDZzV1IBGZAcwAyMg4xrHmg9S+6jpuenkp1bX1vHnziXTz9VAReV/BvNutcfvH/BLOfAAiYnwbg1LKLf6+P78CeMkYkwacC7wqIkfEZIx5xhiTZYzJSkrSduYtcToNM99ayYZiB7OuHEm/FB8OHV3lgA9nwisXWsMaX/8JnPu/mgSUCmDevCMoBFxnuEizl7m6EZgEYIz5QUQigUSgxItxdXj/+GwDn2fv5E8XDGb8ADenWvSE3C9g3p1QscPqGzDhD9booUqpgObNO4IlQD8R6S0i4cA0YF6jbbYDZwKIyCAgEij1Ykwd3txlBfx38WauPDGD6Sdn+uakB/ZalcGvXWpd+G/4DM55RJOAUu2E1+4IjDF1InIbsAAIAV4wxqwTkYeApcaYecD/AM+KyG+wKo6nm/Y2U467lr4IC/8Cgy6E0ddBj5GeP8XW3dz37hpOPi6BP184xDejh2741BonqLIETvmN1SIozA/NU5VSraYzlPlC4TJ4/hyr5Yyj0JqfNnW4NUXgsKkembA8f/d+LnrqO2IjQ3n/1+OI7+zlyuH9u+HTe2H1W9YE71OehJ6jvHtOpVSr6Qxl/nRgjzWmTmwq3PQFSCdY8441b+zHd8Fn98OQS6y7hLQTWjUVY6XdQqim3snz00/wfhLI+RA+ugsO7Lb6BZx6N4T6uFWSUspjNBF4kzHw3q3gKLKGV+7czVo+5mY44SYoXA7LX4I1c2Hla5A8GEZdB8MvP7RtC+qdhjvfXEFuaSUvXX8CxyV5sXXOvl0w/7ew7l3rjuaadyF1mPfOp5TyCU0E3vT9LNj4CUz6O6Q1uiMTgbTR1uOcv8KaObD8Zfj0d/D5AzDkIisp9Dr5qHcJf/90PV+uL+EvU4Zwaj8vNa2tr4UVr8LCh6G6As64H8bNhJAw75xPKeVTmgi8ZfuP8MWDVuXwib88+rYRsZB1vfUoWm0lhNVvW+XvCf2s2bqOvxKiD59E/u0l+TzzdR7Xju3FNWMzPf8enE5YOxcWPQJ7tkDGWDj/35A8yPPnUkr5jVYWe8O+XfD0qdZ8u7/8CiK7HPsxavbBuvetpJD/E3QKg0HnW3cJvU/np617uPr5nzixdwIvXX+CZ2cWMwY2LrBaOe1cCylDrZ7B/c5uVR2GUsr/tLLYl5xOePdm2F8GN33euiQAEB4NI6+yHiU5sOxlWPUmrHuP2rhe/FxxMiPiz+apK0d5Ngls/c4aHyj/R+ja25ovYMglOkicUh2Y3hF42lf/gEUPw/mPW0U9nlRbxf7V77Fp/pOMqF+LkRBkwGTrLqHvmdaQDq1VtMpKALlfQGx3OP0eGHmN1gMo1UHoHYGv5H0Fi/8Kwy63+gh4WF2ncG5ddRzfHfgDb09NYlTpPFj5Bqz/COLSYNQ1MPJqa9IXd+3KtRLXuvcgMh4mPgRjZkBYlMfjV0oFJr0j8JSKYqteIKor3LzQK4OsPfRhNi98t4VHLh7KVSf2shbW1cCGj62io7xFVj+FvhOtfgn9zml+HuDyQvjqUVjxOoRGwthfwcm3t74oSykV0PSOwNvq62DOjVBTCdd96PEkUFfv5F+fb+SF77Zw/bjMQ0kArI5cQy62Hnu2wvJXYcVrMPtKiEm16hhGXQtdM63t95XBt/+Cn58FjNWn4dT/gRgfDk6nlAooekfgCV8+BN88BiVAzsQAABghSURBVBf/H4yY5tFDl1RUccebK/gxbzfTTkjn4YuGtlw5XF8HmxZYdwm5n4NxQp8J1tSQS1+C2n0w4goYf6817IVSqsPTOwJv2vS5lQRGXevxJPDD5jJuf3MFldW1PDZ1BJeOdrPsPyQUBp5nPcoLrDuE5a9aRUeDLoAJ90PyQI/GqpRqv/SOoC3KC+DpUyCupzWOkIcqWJ1Ow3+/2sxjn20gMzGa/141mgGpbZxcxllvDRQXoxP7KBWM9I7AG+pqrMHk6utg6sseSwJ79tVw19srWbShlAtG9OBvlwwjJsID/02dQjQJKKWapImgtb78MxQsgctehMS+Hjnkiu17uO2NFZRWVPOXi4Zy9YkZvplTQCkV1DQRtEbOh/DDk1Z7+6GXtPlwxhhe/G4rf/skh5S4SObcOpbhafEeCFQppVqmieBY7d4C7/8aeoyCsx9u8+Eqqmr53dzVzF9TzFmDUnhs6gi6dNbevEop39FEcCxqq+Cd60CAqS9Zg8q1QfYOB796fRn5ew5w3+SBzDitjxYFKaV8rsVEICIXAB8bY5w+iCewLfi9NSbPtDeha6+Wt2+GMYa3l+bzwAfriO8cxps3n8SY3u5NRKOUUp7mzpCSvwA2icj/ikjwNj5f9RYsfR5OvgMGntvqwxyoqefud1bzu7lrOCGzGx/fcaomAaWUX7V4R2CMuVpE4oArgJdExAAvAm8aYyq8HWBA2P4TzLsNep1ijcvfSptLK/nVa8vZWFLBnWf2444z+xHSSYuClFL+5dYg88YYBzAHmA10By4GlovI7V6MLTDs2WaN29MlDX7xaquHZV66dTcXzvqW0spqXr5+DL+Z2F+TgFIqILhTR3AhcD3QF3gFGGOMKRGRzkA2MMu7IfpRlQPe+AU4a+HKt92eUL6xeqfh/vfXEt85nDm3jqV7Fx3iWSkVONxpNXQp8G9jzNeuC40x+0XkRu+EFQDq62DODbBrI1zzLiT2a/Wh5i4rYH1xBU9eOVKTgFIq4LiTCB4EihpeiEgUkGKM2WqM+dJbgfndZ/dbI3ee/zj0Gd/qw+yrruOfn21gZEY85w3r7rHwlFLKU9ypI3gHcG06Wm8v67iWPAc//RdO+nWbp5t85us8Siqquf+8QdpHQCkVkNxJBKHGmJqGF/bzcO+F5GebF8L8e6zZvc7+S5sOtdNRxTNf53HesO6M7qVNRJVSgcmdRFBqVxgDICJTgF3uHFxEJonIBhHJFZF7m1j/bxFZaT82ishe90P3gtKN8PZ0SBoIlz3ftsnggcc+20Cd08nvJgVv9wulVOBzp47gFuB1EXkSa3CFfODalnYSkRDgKWAiUAAsEZF5xpjshm2MMb9x2f52YOSxhe9B+8rgjcutqR+vnA0RbRv/P3uHg3eWFXDjuN5kJHT2UJBKKeV57nQo2wycJCIx9utKN489Bsg1xuQBiMhsYApWk9OmXAH8yc1je1ZdNbx1NTh2wPSP2zx9ozGGv87PoUtUGLef0frWRkop5QtuDTonIucBQ4DIhgpPY8xDLezWE+vuoUEBcGIzx+8F9AYWNrN+BjADICPDw3PsGgMf/Qa2fw+XPg/pJ7T5kIs3lvJt7i4eOH+wjiSqlAp4LdYRiMjTWOMN3Y497ibQ+hHXmjYNmGOMqW9qpTHmGWNMljEmKynJw7NsffcfWPk6nH4vDLuszYerq3fy149zyEzozNUnefpjUkopz3OnsvhkY8y1wB5jzJ+BsUB/N/YrBNJdXqfZy5oyDXjTjWN6Vs6H8MWDMPRSGH9EXXarvLU0n00lldw7eSDhoW6N4KGUUn7lzpWqyv53v4j0AGqxxhtqyRKgn4j0FpFwrIv9vMYb2SOadgV+cC9kDylaBe/OgJ6jYcpT4IE2/pXVdfz7842MyezGOUNSPRCkUkp5nzuJ4EMRiQf+ASwHtgJvtLSTMaYOuA1YAOQAbxtj1onIQ67NUbESxGxjjDnW4FvNUQRvTIOobjDtDY9NPP/04s3sqqzh99p5TCnVjhy1slhEOgFfGmP2AnNF5CMg0hhT7s7BjTHzgfmNlj3Q6PWDxxRxW9XshzenQbUDblgAsSkeOeyOvQd49ps8LhzRg+PTdb5hpVT7cdQ7AntWsqdcXle7mwQCktMJ7/3SKha69DlIHeqxQ/9zwQYMcM+kAR47plJK+YI7RUNfisil0hHKOhY9AjnzrEnnB0z22GHXFpbz7opCbhjXm7Su2nlMKdW+uJMIfok1yFy1iDhEpEJEHF6Oy/NWzYZv/gmjroOxv/bYYY0xPPxxNt2iw/nVhOM8dlyllPIVd3oWt22shUAR3wuGXAznPeaRFkINvsgp4ce83Tw0ZQhxkdp5TCnV/rgzQ9lpTS1vPFFNwOs11np4UG29k7/Nz6FPUjRXjPFwj2ellPIRd4aY+K3L80isMYSWAWd4JaJ25M2ft5O3ax/PXptFWIh2HlNKtU/uFA1d4PpaRNKBx70WUTvhqKrl8S82cVKfbpw1KNnf4SilVKu15mdsATDI04G0N08tymXP/hruP2+wdh5TSrVr7tQRzAIaev12Ao7H6mEctPJ37+fF77Zy8cieDO3Zxd/hKKVUm7hTR7DU5Xkd8KYx5jsvxdMu/GPBBgS4+2ztPKaUav/cSQRzgKqGIaJFJEREOhtj9ns3tMC0Mn8v81bt4LYJfekR75kxipRSyp/c6lkMuF7xooAvvBNOYDPG8PBH2STGhHPLeO08ppTqGNxJBJGu01Paz4NyHIUF64pZum0Pv5nYn5gItyZ3U0qpgOdOItgnIqMaXojIaOCA90IKTDV1Th79ZD39kmP4RVZ6yzsopVQ74c7P2pnAOyKyA2uqylSsqSuDygcrC9latp8Xp59AqHYeU0p1IO50KFtizyLW0ERmgzGm1rthBZ7l2/cQ3zmM8QM8PGeyUkr5mTuT1/8aiDbGrDXGrAViRORX3g8tsGTvcDAoNU47jymlOhx3yjhutmcoA8AYswe42XshBZ66eifriysY3CPO36EopZTHuZMIQlwnpRGRECDceyEFnq1l+6iuczKouyYCpVTH405l8afAWyLyf/brXwKfeC+kwJNdVAHAYE0ESqkOyJ1E8DtgBnCL/Xo1VsuhoJG9w0FYiNA3OcbfoSillMe1WDRkT2D/E7AVay6CM4Ac74YVWHKKHPRNjiU8VJuNKqU6nmbvCESkP3CF/dgFvAVgjJngm9ACR3aRg9P6abNRpVTHdLSiofXAN8D5xphcABH5jU+iCiClFdWUVlQzqHvHmLpZKaUaO1pZxyVAEbBIRJ4VkTOxehYHlZwiB4A2HVVKdVjNJgJjzPvGmGnAQGAR1lATySLyXxE521cB+lt2QyLQFkNKqQ7KncrifcaYN+y5i9OAFVgtiVokIpNEZIOI5IrIvc1sc7mIZIvIOhF545ii94GcIgc9ukQS3zmouk4opYLIMY2lbPcqfsZ+HJXd8ewpYCLWPMdLRGSeMSbbZZt+wH3AOGPMHhEJuFngs3c4tFhIKdWhebM95Bgg1xiTZ4ypAWYDUxptczPwlJ1gMMaUeDGeY1ZVW0/ern3ao1gp1aF5MxH0BPJdXhfYy1z1B/qLyHci8qOITPJiPMds484K6p1G6weUUh2av6fZCgX6AeOx6h++FpFhroPcAYjIDKzezWRkZPgsuIYWQ3pHoJTqyLx5R1AIuE7llWYvc1UAzDPG1BpjtgAbsRLDYYwxzxhjsowxWUlJvuvYlb3DQXR4CBndgnJmTqVUkPBmIlgC9BOR3iISDkwD5jXa5n2suwFEJBGrqCjPizEdk+wiBwO7x9GpU9B1n1BKBRGvJQJjTB1wG7AAa2yit40x60TkIRG50N5sAVAmItlYfRV+a4wp81ZMx8LpNOQUVWj9gFKqw/NqHYExZj4wv9GyB1yeG+Au+xFQCvYcoLK6TpuOKqU6PB1OsxnZWlGslAoSmgiakV3koJPAgBQdbE4p1bFpImhGTpGD3onRRIWH+DsUpZTyKk0EzbCGluji7zCUUsrrNBE0oXx/LYV7D+gcBEqpoKCJoAk5xTr0tFIqeGgiaEL2Dk0ESqngoYmgCTlFDhJjwkmKjfB3KEop5XWaCJqQXeRgUPc4RHRoCaVUx6eJoJHaeiebdlZqsZBSKmhoImhkc2klNfVOHVpCKRU0NBE00lBRrENLKKWChSaCRnKKHISHdqJPYrS/Q1FKKZ/QRNBIdpGDASmxhIboR6OUCg56tXNhjM5BoJQKPpoIXOx0VLN7X41WFCulgoomAhc6Wb1SKhhpInDRMBnNQB1sTikVRDQRuMje4SC9WxRxkWH+DkUppXxGE4GLnCKHVhQrpYKOJgLb/po6tpTt0/oBpVTQ0URgW19cgTE69LRSKvhoIrAdnINAm44qpYKMJgJbTpGDuMhQesZH+TsUpZTyKU0ENp2DQCkVrDQRAPVOw/qiCq0oVkoFJU0EwLayfRyordf6AaVUUPJqIhCRSSKyQURyReTeJtZPF5FSEVlpP27yZjzNaehRrC2GlFLBKNRbBxaREOApYCJQACwRkXnGmOxGm75ljLnNW3G4I6fIQWgnoW9yjD/DUEopv/DmHcEYINcYk2eMqQFmA1O8eL5Wy97hoG9yDJFhIf4ORSmlfM6biaAnkO/yusBe1tilIrJaROaISHpTBxKRGSKyVESWlpaWejzQHK0oVkoFMX9XFn8IZBpjhgOfAy83tZEx5hljTJYxJispKcmjAZRVVlPsqNL6AaVU0PJmIigEXH/hp9nLDjLGlBljqu2XzwGjvRhPk3KKKgCdg0ApFby8mQiWAP1EpLeIhAPTgHmuG4hId5eXFwI5XoynSYcmo9E5CJRSwclrrYaMMXUichuwAAgBXjDGrBORh4Clxph5wB0iciFQB+wGpnsrnuZkFzlIiYsgISbC16dWSqmA4LVEAGCMmQ/Mb7TsAZfn9wH3eTOGlugcBEqpYOfvymK/qq6rJ7ekUnsUK6WCWlAngk07K6lzGq0oVkoFtaBOBDq0hFJKBXsi2OEgKiyEXgnR/g5FKaX8JqgTQU6Rg4HdYwnppHMQKKWCV9AmAmPMwclolFIqmAVtIijce4CKqjqtH1BKBb2gTQQNk9XrHYFSKtgFbSLIKapABAam6tASSqngFrSJILuonN4J0URHeLVztVJKBbwgTgRaUayUUhCkicBRVUv+7gM6tIRSShGkiWD9wTkItH5AKaWCMhHkHBxaooufI1FKKf8LykSQvcNB185hpMTpHARKKRWUiSCn2MHgHnGI6NASSikVdImgrt7J+uIK7VGslFK2oEsEebv2UVPn1KajSillC7pEcLCiWJuOKqUUEISJIHuHg/CQThyXFOPvUJRSKiAEXyIoctAvJYawkKB760op1aSguxrm6NASSil1mKBKBCUVVeyqrNEWQ0op5SKoEkHDHARaUayUUocEVyKwWwwNStVEoJRSDYIqEeQUVdAzPoouncP8HYpSSgWMoEoE2TvKtaJYKaUa8WoiEJFJIrJBRHJF5N6jbHepiBgRyfJWLAdq6tmya5/WDyilVCNeSwQiEgI8BUwGBgNXiMjgJraLBe4EfvJWLAAbdlbgNDBY5yBQSqnDePOOYAyQa4zJM8bUALOBKU1s9xfg70CVF2PROQiUUqoZ3kwEPYF8l9cF9rKDRGQUkG6M+fhoBxKRGSKyVESWlpaWtiqYhOhwzh6cQlrXqFbtr5RSHVWov04sIp2AfwHTW9rWGPMM8AxAVlaWac35zh6SytlDUluzq1JKdWjevCMoBNJdXqfZyxrEAkOBxSKyFTgJmOfNCmOllFJH8mYiWAL0E5HeIhIOTAPmNaw0xpQbYxKNMZnGmEzgR+BCY8xSL8aklFKqEa8lAmNMHXAbsADIAd42xqwTkYdE5EJvnVcppdSx8WodgTFmPjC/0bIHmtl2vDdjUUop1bSg6lmslFLqSJoIlFIqyGkiUEqpIKeJQCmlgpwY06r+WX4jIqXAtlbungjs8mA4nqbxtY3G13aBHqPG13q9jDFJTa1od4mgLURkqTEmYDusaXxto/G1XaDHqPF5hxYNKaVUkNNEoJRSQS7YEsEz/g6gBRpf22h8bRfoMWp8XhBUdQRKKaWOFGx3BEoppRrRRKCUUkGuQyYCEZkkIhtEJFdE7m1ifYSIvGWv/0lEMn0YW7qILBKRbBFZJyJ3NrHNeBEpF5GV9qPJgfq8GONWEVljn/uIYcHF8oT9+a22Z5rzVWwDXD6XlSLiEJGZjbbx+ecnIi+ISImIrHVZ1k1EPheRTfa/XZvZ9zp7m00icp2PYvuHiKy3///eE5H4ZvY96nfByzE+KCKFLv+P5zaz71H/3r0Y31susW0VkZXN7OuTz7BNjDEd6gGEAJuBPkA4sAoY3GibXwFP28+nAW/5ML7uwCj7eSywsYn4xgMf+fEz3AokHmX9ucAngGBNKPSTH/+vi7E6yvj18wNOA0YBa12W/S9wr/38XuDvTezXDciz/+1qP+/qg9jOBkLt539vKjZ3vgtejvFB4G43vgNH/Xv3VnyN1j8GPODPz7Atj454RzAGyDXG5BljaoDZwJRG20wBXrafzwHOFBHxRXDGmCJjzHL7eQXWXA09j75XwJkCvGIsPwLxItLdD3GcCWw2xrS2p7nHGGO+BnY3Wuz6PXsZuKiJXc8BPjfG7DbG7AE+ByZ5OzZjzGfGmjMErEmh0jx5zmPVzOfnDnf+3tvsaPHZ147LgTc9fV5f6YiJoCeQ7/K6gCMvtAe3sf8YyoEEn0Tnwi6SGgn81MTqsSKySkQ+EZEhPg0MDPCZiCwTkRlNrHfnM/aFaTT/x+fPz69BijGmyH5eDKQ0sU0gfJY3YN3hNaWl74K33WYXX73QTNFaIHx+pwI7jTGbmlnv78+wRR0xEbQLIhIDzAVmGmMcjVYvxyruGAHMAt73cXinGGNGAZOBX4vIaT4+f4vs6U8vBN5pYrW/P78jGKuMIODaaovIH4A64PVmNvHnd+G/wHHA8UARVvFLILqCo98NBPzfU0dMBIVAusvrNHtZk9uISCjQBSjzSXTWOcOwksDrxph3G683xjiMMZX28/lAmIgk+io+Y0yh/W8J8B7W7bcrdz5jb5sMLDfG7Gy8wt+fn4udDUVm9r8lTWzjt89SRKYD5wNX2YnqCG58F7zGGLPTGFNvjHECzzZzbr9+F+3rxyXAW81t48/P0F0dMREsAfqJSG/7V+M0YF6jbeYBDa0zLgMWNveH4Gl2eeLzQI4x5l/NbJPaUGchImOw/p98kqhEJFpEYhueY1Uqrm202TzgWrv10ElAuUsRiK80+yvMn59fI67fs+uAD5rYZgFwtoh0tYs+zraXeZWITALuAS40xuxvZht3vgvejNG13uniZs7tzt+7N50FrDfGFDS10t+fodv8XVvtjQdWq5aNWK0J/mAvewjrSw8QiVWkkAv8DPTxYWynYBURrAZW2o9zgVuAW+xtbgPWYbWA+BE42Yfx9bHPu8qOoeHzc41PgKfsz3cNkOXj/99orAt7F5dlfv38sJJSEVCLVU59I1a905fAJuALoJu9bRbwnMu+N9jfxVzgeh/FlotVtt7wHWxoRdcDmH+074IPP79X7e/XaqyLe/fGMdqvj/h790V89vKXGr53Ltv65TNsy0OHmFBKqSDXEYuGlFJKHQNNBEopFeQ0ESilVJDTRKCUUkFOE4FSSgU5TQRKNSIi9Y1GOPXYiJYikuk6gqVSgSDU3wEoFYAOGGOO93cQSvmK3hEo5SZ7XPn/tceW/1lE+trLM0VkoT042pcikmEvT7HH+l9lP062DxUiIs+KNR/FZyIS5bc3pRSaCJRqSlSjoqFfuKwrN8YMA54EHreXzQJeNsYMxxq87Ql7+RPAV8Ya/G4UVs9SgH7AU8aYIcBe4FIvvx+ljkp7FivViIhUGmNimli+FTjDGJNnDxxYbIxJEJFdWMMf1NrLi4wxiSJSCqQZY6pdjpGJNf9AP/v174AwY8zD3n9nSjVN7wiUOjammefHotrleT1aV6f8TBOBUsfmFy7//mA//x5r1EuAq4Bv7OdfArcCiEiIiHTxVZBKHQv9JaLUkaIaTUT+qTGmoQlpVxFZjfWr/gp72e3AiyLyW6AUuN5efifwjIjciPXL/1asESyVCihaR6CUm+w6gixjzC5/x6KUJ2nRkFJKBTm9I1BKqSCndwRKKRXkNBEopVSQ00SglFJBThOBUkoFOU0ESikV5P4/TuEbTC/GxNsAAAAASUVORK5CYII=\n",
            "text/plain": [
              "<Figure size 432x288 with 1 Axes>"
            ]
          },
          "metadata": {
            "needs_background": "light"
          }
        },
        {
          "output_type": "display_data",
          "data": {
            "image/png": "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\n",
            "text/plain": [
              "<Figure size 432x288 with 1 Axes>"
            ]
          },
          "metadata": {
            "needs_background": "light"
          }
        }
      ],
      "source": [
        "plt.plot(history.history['accuracy'])\n",
        "plt.plot(history.history['val_accuracy'])\n",
        "plt.title('Model accuracy')\n",
        "plt.ylabel('Accuracy')\n",
        "plt.xlabel('Epoch')\n",
        "plt.legend(['Train', 'Test'], loc='upper left')\n",
        "plt.show()\n",
        "\n",
        "# Plot training & validation loss values\n",
        "plt.plot(history.history['loss'])\n",
        "plt.plot(history.history['val_loss'])\n",
        "plt.title('Model loss')\n",
        "plt.ylabel('Loss')\n",
        "plt.xlabel('Epoch')\n",
        "plt.legend(['Train', 'Test'], loc='upper left')\n",
        "plt.show()"
      ]
    },
    {
      "cell_type": "code",
      "source": [
        "import seaborn as sns\n",
        "from sklearn.metrics import classification_report, confusion_matrix\n",
        "from keras.utils.vis_utils import plot_model"
      ],
      "metadata": {
        "id": "G30hzhu4vPLH"
      },
      "execution_count": null,
      "outputs": []
    },
    {
      "cell_type": "code",
      "execution_count": null,
      "metadata": {
        "colab": {
          "base_uri": "https://localhost:8080/"
        },
        "id": "6Xo3WG12BfAp",
        "outputId": "a7eb4c18-173f-41ce-a3a4-f3d75432f1b9"
      },
      "outputs": [
        {
          "output_type": "execute_result",
          "data": {
            "text/plain": [
              "array([[21,  3,  0,  0,  0,  2],\n",
              "       [ 0, 20,  0,  0,  3,  0],\n",
              "       [ 0,  0, 32,  0,  0,  0],\n",
              "       [ 0,  2,  1, 29,  1,  0],\n",
              "       [ 1,  6,  0,  1, 15,  1],\n",
              "       [ 0,  1,  0,  2,  0, 28]])"
            ]
          },
          "metadata": {},
          "execution_count": 33
        }
      ],
      "source": [
        "#Confution Matrix and Classification Report\n",
        "Y_pred = model.predict(test_gen)\n",
        "y_pred = np.argmax(Y_pred, axis=1)\n",
        "\n",
        "matrix1 = confusion_matrix(test_gen.classes, y_pred)\n",
        "matrix1\n"
      ]
    },
    {
      "cell_type": "code",
      "execution_count": null,
      "metadata": {
        "colab": {
          "base_uri": "https://localhost:8080/",
          "height": 407
        },
        "id": "j9_s0ScsBfAr",
        "outputId": "3f9b5e25-ce3e-45f8-c633-8061c9cad4fc"
      },
      "outputs": [
        {
          "output_type": "execute_result",
          "data": {
            "text/plain": [
              "[Text(0, 0.5, 'Bishop'),\n",
              " Text(0, 1.5, 'King'),\n",
              " Text(0, 2.5, 'Rook'),\n",
              " Text(0, 3.5, 'Pawn'),\n",
              " Text(0, 4.5, 'Queen'),\n",
              " Text(0, 5.5, 'Knight')]"
            ]
          },
          "metadata": {},
          "execution_count": 34
        },
        {
          "output_type": "display_data",
          "data": {
            "image/png": "iVBORw0KGgoAAAANSUhEUgAAAWgAAAEWCAYAAABLzQ1kAAAABHNCSVQICAgIfAhkiAAAAAlwSFlzAAALEgAACxIB0t1+/AAAADh0RVh0U29mdHdhcmUAbWF0cGxvdGxpYiB2ZXJzaW9uMy4yLjIsIGh0dHA6Ly9tYXRwbG90bGliLm9yZy+WH4yJAAAgAElEQVR4nO3dd5wV1fnH8c93i/QiiHQFBTsKFuwGNdbY4s9g15gYNJqIsUZjLMQSNRoxVgxGsGMLgliQQBAUAygqLArSlCYKSC9bnt8fM4vXdfeW3Tu3uM/b17z2zrkz5zyMd8+ee+bMOTIznHPO5Z6CbAfgnHOuel5BO+dcjvIK2jnncpRX0M45l6O8gnbOuRzlFbRzzuUor6BdnUlqJGmEpFWSXqhDPmdLeiudsWWDpNclnZ/tOFz+8wq6HpF0lqQpktZKWhJWJIekIevTgLZAazP7RW0zMbOnzezoNMTzPZL6SDJJr1RJ3ytMH5dkPjdLeirRcWZ2nJkNqWW4zm3hFXQ9IekK4D7gdoLKdDvgIeDkNGS/PTDLzMrSkFdUvgYOlNQ6Ju18YFa6ClDAf6dc2viHqR6Q1AIYAFxqZi+b2TozKzWzEWZ2dXhMA0n3SVocbvdJahC+10fSQklXSloWtr4vCN+7BbgROD1smf+6aktTUpewpVoU7v9S0lxJayTNk3R2TPqEmPMOkjQ57DqZLOmgmPfGSfqLpIlhPm9J2ibOZdgM/Bs4Izy/EDgdeLrKtRoo6UtJqyVNlXRomH4scH3Mv/OjmDhukzQRWA/sEKZdGL7/sKSXYvK/U9IYSUr6f6Crt7yCrh8OBBoCr8Q55k/AAUBPYC+gN3BDzPvtgBZAR+DXwIOStjazmwha5c+bWVMzGxwvEElNgPuB48ysGXAQMK2a41oBr4XHtgbuBV6r0gI+C7gA2BbYCrgqXtnAUOC88PUxwHRgcZVjJhNcg1bAM8ALkhqa2RtV/p17xZxzLtAPaAYsqJLflUCP8I/PoQTX7nzzORZcEryCrh9aA98k6II4GxhgZsvM7GvgFoKKp1Jp+H6pmY0C1gI71zKeCmAPSY3MbImZzajmmJ8Bs83sSTMrM7NngU+BE2OO+ZeZzTKzDcAwgoq1Rmb2LtBK0s4EFfXQao55ysyWh2XeAzQg8b/zCTObEZ5TWiW/9QTX8V7gKeD3ZrYwQX7OAV5B1xfLgW0quxhq0IHvt/4WhGlb8qhSwa8HmqYaiJmtI+hauBhYIuk1SbskEU9lTB1j9pfWIp4ngd8Bh1PNNwpJV0maGXarfEvwrSFe1wnAl/HeNLP3gbmACP6QOJcUr6Drh/eATcApcY5ZTHCzr9J2/PDrf7LWAY1j9tvFvmlmb5rZUUB7glbxY0nEUxnTolrGVOlJ4BJgVNi63SLsgrgG6AtsbWYtgVUEFStATd0ScbsrJF1K0BJfHObvXFK8gq4HzGwVwY28ByWdIqmxpGJJx0m6KzzsWeAGSW3Cm203Enwlr41pwGGStgtvUF5X+YaktpJODvuiNxF0lVRUk8coYKdwaGCRpNOB3YCRtYwJADObB/yEoM+9qmZAGcGIjyJJNwLNY97/CuiSykgNSTsBtwLnEHR1XCMpbleMc5W8gq4nwv7UKwhu/H1N8LX8dwQjGyCoRKYAHwOfAB+EabUpazTwfJjXVL5fqRaEcSwGVhBUlr+tJo/lwAkEN9mWE7Q8TzCzb2oTU5W8J5hZdd8O3gTeIBh6twDYyPe7Lyofwlku6YNE5YRdSk8Bd5rZR2Y2m2AkyJOVI2Sci0d+M9k553KTt6Cdcy5HeQXtnHM5yito55zLUV5BO+dcjor34EJWrTr3yLy6e7nvG99mO4SUzVu1NPFBrt5p07hFtkNI2ZJvS+o8t0npN3OTrnOKt9khI3OpeAvaOedyVM62oJ1zLqMqyrMdwQ94Be2ccwDluTedeUYqaEnNATOzNZkozznnUmVW3YwD2RVpH7Sk/SR9QvDI73RJH0naJ8oynXOuVioqkt8yJOoW9GDgEjN7ByBc/+5fwJ4Rl+ucc6nJwRZ01BV0eWXlDMEkNZJyr6PHOefq4U3C/0p6lGAqSyOYqH2cpL0BzCzhjGDOOZcR9bAFXblu201V0nsRVNhHRFy+c84lxerbKA4zOzzK/J1zLm0yePMvWVGP4mgh6V5JU8LtnnCFDeecyy1WkfwWh6SGkv4XjlqbIemWML2rpPclfS7peUlbJQop6ke9HwfWEKzx1hdYTTCKwznncktFefJbfJuAI8xsL4KV5o+VdABwJ/B3M+sGrAR+nSijqCvoHc3sJjObG263ADtEXKZzzqUuTS1oC6wNd4vDrfKe24th+hDiL+IMRF9BbwjHPgMg6WBgQ8RlbqFWbWhy3T00/evjNL1jMFsdfSoARb0Po+kdg2k+ZDSFXXfKVDgp26rBVrz45hBeHfsso94ZxmXXXJTtkBI65ug+zJg+nk9LJnDN1ZdmO5ykeMzR6tCxHS+O+Bf/nTSCce+9yoUXn5PtkKpXXpb0JqlfTNftFEn9YrOSVChpGrAMGA3MAb41s8o7kQuBjolCinoUx8XA0LDfWQSLhP4y4jK/U17OhmceoWLBbGjYiKYDHqFs+lQqFs5n/cCbaPSrP2QslNrYvGkz5516MevXbaCoqIjnRg5m/JiJTJs6PduhVaugoID7B97GscefycKFS5j03ihGjHyLmTNnZzu0GnnM0SsrK+OWG+7ik49m0qRpY94c9yLjx77HrM/mZDu070vhJqGZDQIGxXm/HOgpqSXwCrBLbUKKtAUdrmS8F8GTgz3MrJeZfRRlmd8rf9WKoHIG2LiBisULKGi1DRWLv6Bi6cJMhVEn69cFXziKiosoKi4il9f47b1fL+bMmc+8eV9QWlrKsGHDOenEY7IdVlwec/SWffUNn3w0E4B1a9cze9Zc2rXfNstR/ZBZedJb8nnat8BY4ECgZbjSO0AnYFGi86MexdFA0lnA74DLJd0o6cYoy6wxlm3aUrh9N8o+n5mN4mutoKCAV8c+w6SZo5k4bhIffZCbrWcIvsp+uXDxlv2Fi5bQoUO7LEaUmMecWZ2260CPHrvywdSPsx3KD6VvFEebsOWMpEbAUcBMgor6tPCw84HhiUKKug96OHAyUAasi9mqFduv88TshH9cktegIU0uu5kNTz8EG9enL98MqKio4KTDz+LQPY9jz733oPsuO2Y7JOdqpXGTxgweOpAbr7+DtWtqrAayJ32TJbUHxkr6GJgMjDazkcC1wBWSPgdaE8xVFFfUfdCdzOzYZA+O7ddJ25JXhYU0vuxmNr87hrIpE9KSZTasWb2W9ydM4bAjDmL2pznWdxdavGgpnTt12LLfqWN7Fi/O7WW1PObMKCoqYvDQ+3j5hZGMGvF2tsOpXpoe9Tazjwmelq6aPhfonUpeUbeg35XUI+Iy4mp04VVULP6CzW+8mPjgHNOqdUuaNW8KQIOGDTioz/7MnT0/u0HFMXnKNLp160qXLp0pLi6mb9+TGTHyrWyHFZfHnBn3PvAXZs+ay6MPDsl2KDUrL01+y5BIWtDhHNAW5n+BpLkEg7dFMEwwI9ONFu60B1sdcjTlX8yl6a2PArDxhcFQVEyj836PmrWg8ZW3U77gc9bf/cdMhJSSNm234a4HbqGgoJCCAvH68LcZO/qdxCdmSXl5Of0vv4FRrz1DYUEBTwx5npKSWdkOKy6POXq9D9ibX5xxMiUzPmP0Oy8DcMeA+/jP6PFZjqyKHHzUWxbBsABJ28d738wWJMrDV/WOnq/q7apTX1f13vjes0nXOQ0PPDN/V/U2swVhJVwELA1fdyW4YbgqijKdc65OcnBFlaj7oF8CyiV1I7j51xl4JuIynXMudTlYQUc9iqPCzMoknQr8w8z+IenDiMt0zrmUWQZv/iUr6gq6VNKZwHnAiWFaccRlOudc6nJwRZWouzguIHjE8TYzmyepK/BkxGU651zq6lsXh5mVAJfF7M8jmBPVOedySw62oKMaBz3MzPrGjIf+nkyNg3bOuaTl4DjoqFrQ/cOfJ0SUv3POpVd9aUGb2ZLw55YHUiRtAyy3KJ6Mcc65uirLvVW9I7lJKOkASeMkvSypl6TpwHTgK0lJT57knHMZk6bpRtMpqi6OB4DrgRbAf4DjzGySpF2AZ4E3IirXOedqpx71QReZ2VsAkgaY2SQAM/tUysgj7M45l5r60gcNxP5Lqy4S633QzrncU49a0HtJWk0wvWij8DXhfsNkMmj9/KcRhRaNr47plu0QUtb2zWxH8OPXtUV+LEUVq97OclhfWtBmVhhFvs45F5kcHMUR9VwczjmXH3JwBLBX0M45B/WqD9o55/KLV9DOOZej6stNQuecyzvl5dmO4Ae8gnbOOfAuDuecy1k5WEFHvaKKc87lhzRNliSps6SxkkokzZDUP0y/WdIiSdPC7fhEIXkL2jnnAKtI2zjoMuBKM/tAUjNgqqTR4Xt/N7O/JZtRpBW0pL2rSV4FLDCz3HtsxzlXf6WpiyOcD79yTvw1kmYCHWuTV9RdHA8Bk4BBwGPAe8ALwGeSjo64bOecS155edKbpH6SpsRs/arLUlIXoBfwfpj0O0kfS3pc0taJQoq6gl4M9DKzfc1sH4JA5wJHAXdFXLZzziUvhVW9zWxQWK9VboOqZiepKfAScLmZrQYeBnYEehK0sO9JFFLUfdA7mdmMyh0zK5G0i5nN9XmhnXM5JY2jOCQVE1TOT5vZywBm9lXM+48BIxPlE3ULeoakhyX9JNweAkokNQBKIy77B445ug8zpo/n05IJXHP1pZkuPikF27Sh+W330eLBIbR48Akanvh/AKhpM5oNuIeWjz5NswH3oCZNsxxp9fLhGleVbzFv1WArXnxzCK+OfZZR7wzjsmsuynZICeXFNTZLfotDQetzMDDTzO6NSW8fc9jPCZYBjJ9XlGu4SmoEXAIcEiZNJOiX3gg0NrO1NZ1btFXHtAZWUFDAzBnvcOzxZ7Jw4RImvTeKc869hJkzZ6cl/3TNB62tW1HQqjXlc2ZDo0a0/PtjrLntTzQ48jgq1q5m44vP0PC0syho0oz1Qx6tU1lt3/w8LTFXivoaRyHqmKOaD7pxk0asX7eBoqIinhs5mFv/dDfTpib8fU9KuueDzsTnomzzojp/JV9/72+SrnMaX/FYjeVJOgR4B/iE7xYvuR44k6B7w4D5wEWVC2zXJNIWtJltMLN7zOzn4fY3M1tvZhXxKuco9N6vF3PmzGfevC8oLS1l2LDhnHTiMZkMISm2ckVQOQNs2ED5lwsoaN2GrfY/mE1jgqUcN415g60OOCROLtmRL9c4Vj7GDLB+XbBQUVFxEUXFRbk4U+YWeXONKyz5LQ4zm2BmMrM9zaxnuI0ys3PNrEeYflKiyhkirqAlHSxptKRZkuZWblGWWZMOHdvx5cLFW/YXLlpChw65vdpFwbbtKNyxO2WflaCWW2MrVwBBJa6WCW8AZ1w+XuN8jBmCVumrY59h0szRTBw3iY8+SE/rOQp5c41TGMWRKVHfJBwM/AGYCiT8V4VDVfoBqLAFBQVNoo0ulzVsRLPrBrD+sX9gG9ZnOxqXYyoqKjjp8LNo1rwpDw25h+677MjsT+dkO6y8ZvXwUe9VZva6mS0zs+WVW00Hxw5dSXflvHjRUjp36rBlv1PH9ixenKNrrxUW0uy6AWwa9zab33sHAPt2Jdq6FRD0U9u3K7MZYbXy6hqH8jHmWGtWr+X9CVM47IiDsh1KjfLmGqepiyOdoq6gx0q6W9KBkvau3CIus1qTp0yjW7eudOnSmeLiYvr2PZkRI9/KRigJNb3sWsq/XMDG4cO2pG3+30QaHHksAA2OPJbN70/MVng1yqdrXCkfY27VuiXNmgejeBo0bMBBffZn7uz52Q0qjry5xmmaiyOdou7i2D/8uW9MmgFHRFzuD5SXl9P/8hsY9dozFBYU8MSQ5ykpmZXpMBIq2q0HDY44hrJ5c2gx8J8ArB/6GBtefIZm195Mw6N+Rvmypay98+bsBlqNfLnGsfIx5jZtt+GuB26hoKCQggLx+vC3GTv6nWyHVaO8ucYZbBknK9JhdnWR7mF2UUvXMLtMSvcwO/dDUQ2zi1K6h9llQjqG2a278Yyk65wmA57LyJN2kbSgJZ1jZk9JuqK692MHbzvnXE6oR0teVd7ha1bNe3nVMnbO1RM52MURVQU9CsDMbqn6hqQTIirTOedqrT4NsxsdTrP3PZIuAAZGVKZzztVePRpmdwXwlqTulQmSrgvTfxJRmc45V3s5WEFH0sVhZqMkbQJel3QKcCHQGzjMzHLvCQvnnMvgI9zJimwctJmNCbs0xgHvAkeY2caoynPOubpI45qEaRPVMLs1BKM1BDQAjgSWhfOkmpk1j6Jc55yrtfpSQZtZdcPrnHMud+XgKI6oH/V2zrn8UF9a0M45l3e8gnbOudxk5d7F8aOVjxMPbVicuzOg1aRRh0OzHUJK8nHioXrLW9DOOZeb6s0wO+ecyzteQTvnXI7KvS5or6Cdcw7AynKvhvYK2jnnwFvQzjmXq3LxJmHUq3o751x+qEhhi0NSZ0ljJZVImiGpf5jeStJoSbPDn1snCskraOecI2hBJ7slUAZcaWa7AQcAl0raDfgjMMbMugNjwv24vIJ2zjlIWwvazJaY2Qfh6zXATKAjcDIwJDxsCHBKopAiraAlDaiyXyjp6SjLdM652rCy5DdJ/SRNidn6VZdnuPRfL+B9oK2ZLQnfWgq0TRRT1DcJO0u6zszukNQAGAZ8GHGZzjmXMkthFIeZDQIGxTtGUlPgJeByM1sdTIe/5XyTlLCvJKUWtKStJe2Zwim/AnqE6xGOAMaa2c2plOmccxmRpi4OAEnFBJXz02b2cpj8laT24fvtgWWJ8klYQUsaJ6m5pFbAB8Bjku5NcM7ekvYmaNoPBE4HZgPjw3TnnMspVpH8Fk+4ctRgYKaZxdaVrwLnh6/PB4YniimZLo4WYfP8QmComd0k6eME59xTZX8lsFuYbsARSZTrnHMZk0oXRwIHA+cCn0iaFqZdD/wVGCbp18ACoG+ijJLp4igKm+N9gZHJRGdmh8fZslY5H3N0H2ZMH8+nJRO45upLsxVGSnI95k2bNnPGhf059fxLOPnsi3jgn08CcO3Nd3LCGRdyyjkXc8Pt91JaVpblSGuW69e4OvkWcz7Ea+VKeoubj9kEM5OZ7WlmPcNtlJktN7Mjzay7mf3UzFYkiklm8fupJf0C+DMwwcwukbQDcLeZ/V/CzKUWwE3AYWHSf4EBZrYq0blFW3VM62M9BQUFzJzxDscefyYLFy5h0nujOOfcS5g5c3Y6i0mrqGNOx3zQZsaGDRtp3LgRpWVlnPfbq/hj/4tYtXoNhx64HwDX3Hwn+/TcgzN+fkKdy0v3fND+uYheJuIt27wofq2ZhKWH9Um6zmk3flydy0tGwha0mb0Q/iW4JNyfm0zlHHocWEPQ+u4LrAb+Vdtg66L3fr2YM2c+8+Z9QWlpKcOGDeekE4/JRihJy4eYJdG4cSMAysrKKCsrQxKHHdQbSUiix64789Wyb7IcafXy4RpXlW8x50u8VqGkt0ypsQ9a0j8I+ourZWaXJZH/jlUq81ti+mQyqkPHdny5cPGW/YWLltB7v17ZCCVp+RJzeXk5fX91GV8sWsyZp57AnrvvsuW90rIyRrw5hj/2vziLEdYsX65xrHyLOV/iTWMfdNrEu0k4JQ35b5B0iJlNAJB0MLChpoPDwd79AFTYgoKCJmkIwUWtsLCQl4Y8yOo1a+l/3V+YPXc+3XfoAsCtf3uQffbag3167pHdIJ1LwCxzLeNk1VhBm9mQ2H1Jjc1sfYr5/xYYEvZFC1jBd8NMqitzy+DvdPdBL160lM6dOmzZ79SxPYsX5/Z6cfkWc/NmTem9955MmDSF7jt04aHHn2blt6u46fYbsh1ajfLtGkP+xZwv8eZiCzqZcdAHSioBPg3395L0UDKZm9k0M9sL2BPoYWa9zCzREL1ITJ4yjW7dutKlS2eKi4vp2/dkRox8KxuhJC0fYl6x8ltWr1kLwMZNm3hv8od03b4zL776BhPfn8pdt1xLQUHuTvmSD9e4qnyLOV/irShX0lumJDMO+j7gGIJB1pjZR5IOi39KoOooDklJj+JIt/LycvpffgOjXnuGwoICnhjyPCUlszIdRkryIeavl6/kT7f+jfKKCqzCOOaIQ+lz8P7sddjPaN92W87udwUAP/3JQfz2V2dnOdofyodrXFW+xZwv8Wby5l+ykhlm976Z7S/pQzPrFaZ9FLaME537EjCd72ZwOhfYy8xOTXRuurs43A+lY5hdpqV7mJ37cUjHMLv5PY9Kus7pMm10RmrzZFrQX0o6CLDw+fL+BNPnJSNnRnE451w8CdqqWZFM5+DFwKUE85kuBnqG+8nYIOmQyp1Eoziccy5b8mocdCUz+waobedhSqM4nHMuW3JxmF0yozh2kDRC0teSlkkaHj7unVDVURzAvuFP55zLKeXlSnrLlGS6OJ4hmGi/PdABeAF4Nt4J4fSk10l6QNJRBI97nwd8ThIzODnnXKaZKektU5K5SdjYzJ6M2X9K0tUJznmSYIrR94DfAH8i6OL4uZn5TULnXM7JxWF28ebiaBW+fF3SH4HnCObmOB0YlSDfHcysR5jPP4ElwHZmtrHuITvnXPrl4iiOeC3oqQQVcuWflYti3jPgujjnlm450Kxc0kKvnJ1zuSyvWtBm1rUO+e4laXX4WkCjcF9B1ta8Dnk751zalVfk3pQESa3qLWkPgiWrGlammdnQmo43s8K6h+acc5mTb10cAEi6CehDUEGPAo4DJgA1VtDOOZdvKvJxHDRwGnAksNTMLgD2AlpEGpVzzmVYvg6z22BmFZLKJDUHlgGdI47LOecyKi+7OIApkloCjxGM7FhLML7ZxWjTOP++VLTe/qfZDiFlayfcl+0QUrLt4ddmO4SUrS/dlO0QsiIXuziSmYvjkvDlI5LeAJpna9J955yLSl6N4pC0d7z3zOyDaEJyzrnMy8Eejrgt6HvivGfAEWmOxTnnsiavujjM7PBMBuKcc9mUztEZkh4HTgCWmdkeYdrNBHMTfR0edr2ZxZ02I/c6XZxzLgsqUtiS8ARwbDXpfzeznuGWaE6j5J4kdM65HzsjfS1oMxsvqUtd8/EWtHPOAWWmpDdJ/SRNidn6JVnM7yR9LOlxSVsnOjiZR71FsOTVDmY2QNJ2QDsz+18y0UjqCGwfW5aZjU/mXOecy5RUWtBmNggYlGIRDwN/IRhk8ReCgRi/indCMl0cDxF0uxwBDCBYHeUlYL9EJ0q6k2D+6BKgPEw2wCto51xOSbJvudbM7KvK15IeA0YmOieZCnp/M9tb0odhISslbZVkTKcAO5tZ/Xw0yTmXN9LZB10dSe3NbEm4+3NgeqJzkqmgSyUVEo7jltSG5P/YzAWKAa+gnXM5LZ0taEnPEswCuo2khcBNQB9JPQnq0vl8fxGUaiVTQd8PvAJsK+k2gtntbkgyzvXANEljiKmkzeyyJM93zrmMKE/vKI4zq0kenGo+yczF8bSkqQRTjgo4xcxmJpn/q+HmnHM5LQdXvEpqFMd2BC3hEbFpZvZFEvkvBN41sw21DzF9jjm6D/feO4DCggIe/9ez3HX3g9kOKa4OHdtx/yN30KbNNpgZTw0Zxj8feSrbYcX14MN3cuxxh/P118s5YL/jsh1OtZYu/5Y/PfoSK1atBYnTDt+Xs485iM8WLOHWJ15l/cbNdNimJXdc8guaNmqYOMMMy4drXFU+/O5VRNwHXRvJjIN+jeBu42vAGIJ+5deTzP884CNJkyTdLenEZMb+RaGgoID7B97GCSeeQ4+9Duf0009h1127ZyOUpJWVlXHLDXfxkwNO5GdHncEvLzyLnXbeMdthxfX0Uy9y6ikXZDuMuAoLC7nqrON45c7+PHXTRTz39vvMWbSMWwb/m/59j+alO37PEfvuxhOvTch2qNXKh2scK19+9yyFLVMSVtBm1sPM9gx/dgd6k+R80GZ2vpntBJwKfAk8yHfPoWdU7/16MWfOfObN+4LS0lKGDRvOSScek41Qkrbsq2/45KOgN2nd2vXMnjWXdu23zXJU8b07cTIrV3yb7TDiatOyGbt26QBAk0YN2KFDG5atWM2Cpd+wzy5dADhwjx0ZM3lGFqOsWT5c41j58ruX5ke90yLlJwnDaUb3T+ZYSedIehR4Efgp8ABwaKplpkOHju34cuHiLfsLFy2hQ4d22QilVjpt14EePXblg6k+FXc6Lfp6JZ8uWEKPbp3YseO2jJ0a/EF8638zWLpiVZaj+3HIl9+9CinpLVOS6YO+Ima3ANgbWFzD4VXdB8wBHgHGmtn8BGX1A/oBqLAFBQVNkizmx61xk8YMHjqQG6+/g7Vr1mU7nB+N9Rs3ceX9z3L12cfTtFFDbvnNqfz1yZEMGj6OPr12objIF6evT8oTH5JxyQyzaxbzuoygL/qlZDI3s20k7Q4cBtwmqTvwmZmdW8PxWx6fLNqqY1q7ehYvWkrnTh227Hfq2J7Fi5ems4hIFBUVMXjofbz8wkhGjXg72+H8aJSWlXPF/c9y/EF78dP9dgega4c2PHpt0Lc7f8k3jP/os2yG+KORL797eTeKI3xApZmZXVWbzMNFZrcjmIujC8Fq4Jnswtli8pRpdOvWlS5dOrNo0VL69j2Zc8+7NBuhpOTeB/7C7FlzefTBIdkO5UfDzLj5n6+wQ4c2nHfcwVvSl69aS+sWTamoqOCx4eP4xRG9sxjlj0e+/O7l4iiOeEteFZlZmaSDazomCRNitgfMbGEd8qqT8vJy+l9+A6Nee4bCggKeGPI8JSWzshVOUnofsDe/OONkSmZ8xuh3XgbgjgH38Z/RuTuVyeNPDOSQQ/endeutmTlrIrffOpAnhw7Ldljf8+GsBYycOI3undvS908PAPD7XxzFF18t57m33wfgyH1345TDalz1Lavy4RrHypffvVxc8kpWw1rjkj4I5+B4GOgIvABs6QA1s5ejDCzdXRxRy8dVvdeVbsx2CClbNvbObIeQEl/VOzPKNi+qc6f4DY8AABkQSURBVPN3aMdzkq5zzlv0VEaa28n0QTcElhPMZmcETxMakLCCDuftuAbYPcwHADPz9QydczklK32vCcSroLcNR3BM57uKuVKyf2meBp4nWJvrYuB8sjQO2jnn4inPvS7ouBV0IdAUqu05T7aCbm1mgyX1N7P/Av+VNDnVIJ1zLmr51oJeYmYD6ph/aWVekn5GMH66VR3zdM65tMu3CjodDf5bJbUArgT+ATQH/pCGfJ1zLq0sz7o4jqxtppIaEvQ5dyMYATLYzA6vbX7OORe1vGpBm9mKOuQ7hKB74x3gOGA3oH8d8nPOuUjl66PetbGbmfUAkDQYSGoFcOecy5a8e9S7DipvDhI+jRhRMc45lx551cVRR3tJWh2+FtAo3BdgZtY8onKdc65W6k0FbWY+T6NzLq/k4twSUbWgnXMur9SnPmjnnMsr9WkUR501Lm6Q7RBS0rPZ9tkOIWWjv8q/5bPybXa4V5vuk+0QUnbS2qnZDiErKnKwkyNnK2jnnMukXLxJmPKisc4592NkKWyJSHpc0jJJ02PSWkkaLWl2+HPrRPl4Be2ccwQt6GS3JDwBHFsl7Y/AGDPrDowJ9+PyCto554AyWdJbImY2Hqg6XcbJBNNgEP48JVE+XkE75xypdXFI6idpSszWL4ki2prZkvD1UqBtohMivUkYLjh7M8Gq3kV89yThDlGW65xzqUrlJqGZDQIG1bYsMzMpcVM86lEcgwnmf55Kbg4zdM45ICPD7L6S1N7MlkhqDyxLdELUXRyrzOx1M1tmZssrt4jLdM65lKVzFEcNXiVYl5Xw5/BEJ0Tdgh4r6W6CFcC3rOVuZh9EXK5zzqUkneOgJT0L9AG2kbQQuAn4KzBM0q+BBUDfRPlEXUHvH/7cNybNgCMiLtc551JSnsYuDjM7s4a3UlqpKtIK2pe5cs7li3r3JKGktpIGS3o93N8tbN4751xOsRT+y5SobxI+AbwJdAj3ZwGXR1ymc86lLM1PEqZF1BX0NmY2jPDfZGZlZGm43YMP38mc+f9j0uTXs1F8rTVp3oQ/PfInBo0dxKP/eZRd9t4l2yHFdczRfZgxfTyflkzgmqsvzXY4CeXL52Ln+37LQTP+yX7/vWdLWperfsGB0x5l3zF3s++Yu2l1ZK8sRhhfPlznCizpLVOirqDXSWpNODJF0gHAqojLrNbTT73IqadckI2i6+Timy9myrgp9Du8H5cecylffv5ltkOqUUFBAfcPvI0TTjyHHnsdzumnn8Kuu3bPdlhx5cvnYulz4/j4jNt+kL7w0ZFMOfJqphx5NSvGfJiFyJKTD9c5A8PsUhZ1BX0Fwdi/HSVNBIYCv4+4zGq9O3EyK1d8m42ia61xs8bssf8evPncmwCUlZaxbvW6LEdVs9779WLOnPnMm/cFpaWlDBs2nJNOPCbbYcWVL5+LVZNmUvbt2myHUWv5cJ3LsKS3TIl6FMcHkn4C7EzwmPdnZlaa4DQXate5HatWrOKKe69gh113YPYns3nkpkfYtGFT4pOzoEPHdny5cPGW/YWLltB7v9z92v1j0PFXx9K2709Y89Ec5tw0lLJVufsHPNdl8uZfsqIexdGYYEq9y81sOtBF0glxjt8yAcnmstU1HVZvFBYV0m2Pbrw29DV+d9zv2Lh+I30vTTi23dUTi4a8xaT9f8+UI65m81ffsuMt52U7pLxWH28S/gvYDBwY7i8Cbq3pYDMbZGb7mtm+WxU1jzi03PfNkm/4Zsk3fDbtMwAmjJpAtz26ZTmqmi1etJTOnTps2e/UsT2LFy/NYkQ/bqVfr4KKCjBjyVNv07xX7n428kF9HGa3o5ndBZQCmNl6gq4Ol4SVX6/k6yVf03GHjgD0PLgnX8z+IstR1WzylGl069aVLl06U1xcTN++JzNi5FvZDutHa6ttW255vc3xvVn3ae7eQM4HudiCjvpR782SGvHdKI4diZmTI5Mef2Ighxy6P61bb83MWRO5/daBPDl0WDZCScnDf36Ya/5xDcXFxSz5Ygl/v/Lv2Q6pRuXl5fS//AZGvfYMhQUFPDHkeUpKZmU7rLjy5XOx6yP9aXnQ7hS3asaBHz7CvLuH0fKg3Wm6RxcwY+OXXzPrqkezHWaN8uE6l1vu9UHLIgxK0lHADcBuwFvAwcAvzWxconObN9kh965WHAe32jnbIaQsH1f1zrfV3n1V78xYvW5unb+Zn7X9z5Ouc55Z8EpGegKiHsUxWtIHwAEEXRv9zeybKMt0zrnayMVRHFGvqHJY+HJN+HM3SZXrdTnnXM7IxcmSou6DvjrmdUOgN8HqKj7dqHMup2TyEe5kRd3FcWLsvqTOwH1Rlumcc7VR77o4qrEQ2DXDZTrnXEK5OIoj6j7of/Dd3CIFQC/Al7tyzuWcetfFAXwKFIavlwPPmtnEiMt0zrmU1ZubhJKKgbuB84D5YXJb4B/AREk9zWxaFGU751xt1Kc+6HuAxsD2ZrYGQFJz4G+SHgaOBbpGVLZzzqWsPnVxHA90t5jHFM1staTfAt8Ax0VUrnPO1UqUT1XXVlQVdIVV8681s3JJX5vZpIjKdc65WinPwRZ0VLPZlUj6weS0ks4BZkZUpnPO1VourkkYVQv6UuBlSb8ieHIQYF+gEfDziMp0zrlaqzddHGa2CNhf0hHA7mHyKDMbk2we60tzc1mnmkxc8Vm2Q6gXmhQ3zHYIKfnpynezHULK1rx+U7ZDyIp0towlzSeYg6gcKDOzfWuTT9SPev8H+E+UZTjnXDpEMMzu8LrO3pnpR72dcy4n5eKj3lEveeWcc3khlZuEsQtch1u/KtkZ8JakqdW8lzRvQTvnHKn1QZvZIGBQnEMOMbNFkrYFRkv6tDbz4Efagpb0g6cFq0tzzrlsM7OktyTyWhT+XAa8QjAXfsqi7uJ4qZq0FyMu0znnUpaucdCSmkhqVvkaOBqYXpuYoposaReC4XUtJJ0a81ZzgpVVnHMup6RxFEdb4BVJENSxz5jZG7XJKKo+6J2BE4CWQOyqKmuA30RUpnPO1Vq5pWfCUTObC+yVjryielBlODBc0oFm9l4UZTjnXDrVmycJY3wu6XqgS2xZZvariMt1zrmU1KfpRisNB94B3iZ45NE553JSfZqwv1JjM7s24jKcc67OKnKwiyPqYXYjJR0fcRnOOVdnlsJ/mRLVMLs1BI86Crhe0iagNNw3M2seRbnOOVdb6RrFkU6RtKDNrJmZNQ9/FphZo5j9rFXOxxzdhxnTx/NpyQSuufrSbIWRtAcfvpM58//HpMmvZzuUpOXbNe7QsR0vjvgX/500gnHvvcqFF5+T7ZCSkuvXeemK1Vz492GcOuBfnPqXJ3j6Px8A8OmXyzj3rmfoe/tQzvrrU3wyf0mWI/1OhVnSW6ZE2gctae9qklcBC8ysLMqyqyooKOD+gbdx7PFnsnDhEia9N4oRI99i5szZmQwjJU8/9SKDHh3Ko4/9LduhJCUfr3FZWRm33HAXn3w0kyZNG/PmuBcZP/Y9Zn02J9uh1SgfrnNhYQFX/t9P2HW7tqzbuJkz//oUB+y6Pfe9Mp6LfnYgh+zelXemz+W+V8Yz+A+nZztcIDdvEkbdB/0QMAl4LNwmAS8An0k6OuKyv6f3fr2YM2c+8+Z9QWlpKcOGDeekE4/JZAgpe3fiZFau+DbbYSQtH6/xsq++4ZOPglXY1q1dz+xZc2nXftssRxVfPlznNi2asut2bQFo0nArdmjXimXfrkGCdRuCxTjWbthEmxZNsxnm9+RiCzrqCnox0MvM9jGzfYCewFzgKOCuiMv+ng4d2/HlwsVb9hcuWkKHDu0yGcKPXr5f407bdaBHj135YOrH2Q4lrny7zouWr+LTL5fRo0t7rj7tcP7+yniOuf5R7n15PJedfGi2w9siF28SRl1B72RmMyp3zKwE2CV8FPIHYudYrahYF3Fozn2ncZPGDB46kBuvv4O1a/yzly7rN27mqkGvcvVph9O0UQNeeOcjrjqtD2/efhFXndaHW556M9shblFu5UlvmRJ1BT1D0sOSfhJuDxGs+N2AYFTH95jZIDPb18z2LShoktZAFi9aSudOHbbsd+rYnsWLl6a1jPouX69xUVERg4fex8svjGTUiLezHU5C+XKdS8vLufKxVzm+964c2as7ACMmzeDInsHro/feiekLcifudE43mi5RV9C/BD4HLg+3uWFaKXB4xGV/z+Qp0+jWrStdunSmuLiYvn1PZsTItzIZwo9evl7jex/4C7NnzeXRB4dkO5Sk5MN1NjNuefIturZrzblHfrdeapsWTZkyeyEA//vsC7Zr0zJbIf5AuqYbTaeoF43dANwTblWtjbLsqsrLy+l/+Q2Meu0ZCgsKeGLI85SUzMpkCCl7/ImBHHLo/rRuvTUzZ03k9lsH8uTQYdkOq0b5eI17H7A3vzjjZEpmfMbod14G4I4B9/Gf0SkvfpEx+XCdp81ZxMj/ldC9wzb0vX0oAL8/6RBuPPso7nphLOUVxlbFhfz57IyOFYgrFydLUhRBSRpmZn0lfQI//HNjZnsmyqNoq465d7XiaFzcINshpGx96aZsh5CyNo1bZDuElHy9flW2Q0jZmtdvynYIKWt0ZD/VNY/2LXdLus5Z8m1JnctLRlQt6P7hzxMiyt8559IqF8dBRzUf9JLw54Io8nfOuXSrN496V5J0qqTZklZJWi1pjaTVUZbpnHO1kYujOKKebvQu4EQzmxlxOc45Vye5ON1o1BX0V145O+fyQS6O4oi6gp4i6Xng38CWIQNm9nLE5TrnXErq45JXzYH1QOxgRwO8gnbO5ZR604KW1NnMvjSzC6p5z4feOedyTn0axTFaUpeqiZIuAAZGVKZzztVafZpu9ArgLUndKxMkXRem/ySiMp1zrtZycZhdVEtejQJ+C7wuaQ9J9wEnAoeZ2cIoynTOubpI53zQko6V9JmkzyX9sbYxRfagipmNAS4AxgE7AEeY2cqoynPOubpIVwtaUiHwIHAcsBtwpqTdahNTJlb1bgAcCSyT5Kt6O+dyUhr7lnsDn1cuTCLpOeBkoCTVjKKai6NZXfMo27wostmiJPUzs0FR5Z9u+RYv5F/M+RYveMzplkqdI6kf0C8maVDMv6sj8GXMewuB/WsTU9QT9ueqfokPySn5Fi/kX8z5Fi94zFkTu/pTuEXyR6e+VtDOOReVRUDnmP1OYVrKvIJ2zrn0mgx0l9RV0lbAGcCrtcko6ke9c1VO9oHFkW/xQv7FnG/xgseck8ysTNLvgDeBQuBxM5tRm7wiWfLKOedc3XkXh3PO5SivoJ1zLkflZQUtqVzSNEkfSfpA0kFhegdJL8Y5r4uk6ZmLND5Ja2NeHy9plqTtJV0s6bxsxladmOs+XdIISS1rmc84SfumO74qZcTG+oKkxlGWV1uSOkkaHi4NN1fSA5Jyeon4mj63cY6P+3tZXb5V0k+p7ZN4+S4vK2hgg5n1NLO9gOuAOwDMbLGZnZbd0FIn6UjgfuA4M1tgZo+Y2dBsx1WNyuu+B7ACuDTbAcURG+tm4OJsB1RV+GTty8C/zaw70B1oRLBUXM6r+rmt6bg0/F6eQvDIdL2TrxV0rObASvh+C1nS7pL+F7aiPo6ZWa9Q0mOSZkh6S1Kj8PiekiaFx74iaeswfZykgTGtsd7pDF7SYcBjwAlmNidMu1nSVTHl3xn+W2ZJOjRMbyxpmKSSMN73o26VVvEewRNT8a5dtekx//YCSU9IujXiWN8Bukk6MbxOH0p6W1LbMI5PJLVUYHnltxdJQyUdJemXkl6W9EbY0k1XBXoEsNHM/gVgZuXAH4DzJP1O0gOVB0oaKalP+PpoSe+F3x5fkNQ0TN9H0n8lTZX0pqT2YXq1n6G6qOFz+4Sk+yW9G34bOC1Mj/29jPu5lXSbgm/GkyS1VfDt+CTg7vB3cMe6xp5P8rWCbhT+z/oU+Cfwl2qOuRgYaGY9gX0JHreEoJXyoJntDnwL/F+YPhS41sz2BD4BborJq3GYzyXA42n8dzQgWA7sFDP7NM5xRWbWG7g8Jq5LgJVmthvwZ2CfNMYVl4LJYI7ku7GdNV27eNe0CHgamG1mN0QYaxHBpDWfABOAA8ysF/AccE142ETgYGB3YC5QWYEdCLwbvu4JnA70AE6XFPsgQm3tDkyNTTCz1cB8ahgCK2kb4Abgp2a2NzAFuEJSMfAP4DQz24fgc3pbzKnVfYZqK97ntj1wCHAC8Ndqzo33uW0CTAq/GY8HfmNm7xJ8zq4OvxHNqWPseSVfK+jKr6+7AMcCQ8Ovi7HeA66XdC2wvZltCNPnmdm08PVUoIukFkBLM/tvmD4EOCwmr2cBzGw80Fy17HutRilBBfDrBMdVLhE2FegSvj6EoJLBzKYDH6cppngaSZoGLAXaEizMUO21S+KaPgpMN7PYSiSKWKcAXwCDCZ7oelPSJ8DVBBUkBC3sw8LtYaCHpI4EFcm68JgxZrbKzDYSTHpTY59rxA4g+Lo/Mfz3nR/GsjOwB8H/k2kElXinmPOq+wzVVrzP7b/NrMLMSgg+I1XF+9xuBkamMc68l68V9BZm9h6wDdCmSvozBF+NNgCjJB0RvrUp5rBykntYp+pg8XQNHq8A+gK9JV0f57jKmJONNyobwm8S2xPMVFiXPuh3gcMlNUxLZD9U+Ue8p5n93sw2E7QwHzCzHsBFQGXZ4wlazYcSTI/7NXAaQcVdqTafm0RKqPLNR1JzoB2wnO//flbGKmB0zL9tNzP7dZg+Iya9h5nFrgWazs9QvM9t7HVKdcKzUvvuwYxsf9ZzQt5X0JJ2IXhaZ3mV9B2AuWZ2PzAc2LOmPMxsFbAypm/uXOC/MYecHuZ5CLAqPD4tzGw98DPgbEmJWtKxJhL8kqDgDnePdMWUSBjzZcCVwDqquXZJXNPBwChgWNgNkQkt+G5OhPMrE83sS4I/8t3DKSInAFcRVNxRGgM0junzLgTuAR4A5gE9w376zgRTWAJMAg6W1C08p4mknYDPgDaSDgzTiyXtTkQy/LldA9R5hsx8lK9/oSq/vkLwV/p8Myuv0svRFzhXUinBV/LbCW4o1uR84BEFw7HmEiw2UGmjpA+BYuBXafo3bGFmKyQdC4yX9HWSpz0EDJFUAnwKzADS9ocjETP7UNLHwJnUfO3iXVPM7N6wK+RJSWebRb5q583AC5JWAv8Busa89z7BH3oIWs53EFTUkTEzk/Rz4EFJfyb4Fvi8md0WdtnNI2hlzwQ+CM/5WtIvgWf13XC8G8xsVnhT7v7wmhYB9xF8LqKKP1Of2+eAxyRdRtDHXm/6of1R7wQkjQOuMrMp2Y4lVtjaKjazjeGd7beBncOv8i4PhSMWngV+bmYfZDueKPjnNjX52oJ20BgYG969F3CJf8jzWzhiIVs3HzPFP7cp8Ba0c87lqLy/Seiccz9WXkE751yO8graOedylFfQ7geUxpngwvkZKudk+KfizEomqU84kiHVMuaHj0AnlV7lmGpnUItz/JZ5UpyLmlfQrjpxZ4Kr7YMlZnZh+AhwTfoAKVfQzv1YeQXtEqmcCa6PpHckvQqUSCqUdLekyQpmq7sIgik0Fcxp/Jmkt4FtKzNSzDzQko5VMBvbR5LGSOpC8IfgD2Hr/VBJbSS9FJYxWdLB4bmtFcxEOEPSP0nikWJJ/1Ywy9sMSf2qvPf3MH2MpDZh2o4KZq+bGv67d6kmz8sUzMr2saTnand5nauZj4N2NdJ3M8G9ESbtDexhZvPCSm6Vme0XPtE2UdJbQC+CiXt2I5gsp4QqMwCGleBjwGFhXq3Cp9IeAdaa2d/C454B/m5mEyRtR7AI564Es7FNMLMBkn5G4smmAH4VltEImCzpJTNbTjCD2hQz+4OkG8O8f0ewuOnFZjZb0v4ET8AdUSXPPwJdzWyT0jeBlnNbeAXtqhP7KP07BPNmHAT8z8zmhelHA3tW9i8TzHPRnWBGuGfDuY0XS/pPNfkfAIyvzMvMVtQQx0+B3WIe4W+uYO7jw4BTw3NfCx/dTuSy8LFqgM5hrMsJJv55Pkx/Cng5LOMggsfCK8+vbpWTj4GnJf2bYPpN59LKK2hXncpZ67YIK6p1sUnA783szSrHHZ/GOAoI5m/eWE0sSVMw0f1PgQPNbH34+H5Ns+hZWO63Va9BNX5G8MfiROBPknqYWVlKwTkXh/dBu9p6E/ht+MguknaS1IRgBrjTwz7q9sDh1Zw7iWDO6K7hua3C9Kqzlr0F/L5yR1JlhTkeOCtMOw743kot1WhBMLfz+rAv+YCY9woIphYlzHNCOGn+PEm/CMuQpL1iM5RUAHQ2s7HAtWEZTRPE4VxKvIJ2tfVPgv7lDxQsZ/QowTeyV4DZ4XtDCRZO+B4z+xroR9Cd8BHfdTGMAH5eeZOQYErTfcObcCV8N5rkFoIKfgZBV8cXCWJ9AyiSNJNglY9JMe+tI5jXeDpBH/OAMP1s4NdhfDOAk6vkWQg8pWDy/w+B+83s2wRxOJcSn4vDOedylLegnXMuR3kF7ZxzOcoraOecy1FeQTvnXI7yCto553KUV9DOOZejvIJ2zrkc9f/74nBqjVzYYgAAAABJRU5ErkJggg==\n",
            "text/plain": [
              "<Figure size 432x288 with 2 Axes>"
            ]
          },
          "metadata": {
            "needs_background": "light"
          }
        }
      ],
      "source": [
        "target_names = ['Bishop',\n",
        "                 'King',\n",
        "                 'Rook',\n",
        "                 'Pawn',\n",
        "                 'Queen',\n",
        "                 'Knight']\n",
        "\n",
        "ax= plt.subplot()\n",
        "sns.heatmap(matrix1, annot=True, fmt='g', ax=ax)  #annot=True to annotate cells, ftm='g' to disable scientific notation\n",
        "ax.set_xlabel('Predicted labels');ax.set_ylabel('True labels')\n",
        "ax.set_title('Confusion Matrix')\n",
        "ax.xaxis.set_ticklabels(target_names); ax.yaxis.set_ticklabels(target_names)\n"
      ]
    },
    {
      "cell_type": "code",
      "execution_count": null,
      "metadata": {
        "colab": {
          "base_uri": "https://localhost:8080/"
        },
        "id": "zJE4bUioBfAr",
        "outputId": "2d375bc9-ddb1-4ad8-9095-221fa53b9ac1"
      },
      "outputs": [
        {
          "output_type": "stream",
          "name": "stdout",
          "text": [
            "\n",
            "Classification Report\n",
            "              precision    recall  f1-score   support\n",
            "\n",
            "      Bishop       0.95      0.81      0.88        26\n",
            "        King       0.62      0.87      0.73        23\n",
            "        Rook       0.97      1.00      0.98        32\n",
            "        Pawn       0.91      0.88      0.89        33\n",
            "       Queen       0.79      0.62      0.70        24\n",
            "      Knight       0.90      0.90      0.90        31\n",
            "\n",
            "    accuracy                           0.86       169\n",
            "   macro avg       0.86      0.85      0.85       169\n",
            "weighted avg       0.87      0.86      0.86       169\n",
            "\n"
          ]
        }
      ],
      "source": [
        "print('\\nClassification Report')\n",
        "\n",
        "class_report = classification_report(test_gen.classes, y_pred, target_names=target_names)\n",
        "print(class_report)"
      ]
    }
  ],
  "metadata": {
    "accelerator": "TPU",
    "colab": {
      "machine_shape": "hm",
      "name": "Transfer Learning - VGG16 - Chess Pieces Classification.ipynb",
      "provenance": [],
      "collapsed_sections": []
    },
    "kernelspec": {
      "display_name": "Python 3",
      "language": "python",
      "name": "python3"
    },
    "language_info": {
      "codemirror_mode": {
        "name": "ipython",
        "version": 3
      },
      "file_extension": ".py",
      "mimetype": "text/x-python",
      "name": "python",
      "nbconvert_exporter": "python",
      "pygments_lexer": "ipython3",
      "version": "3.6.4"
    }
  },
  "nbformat": 4,
  "nbformat_minor": 0
}
