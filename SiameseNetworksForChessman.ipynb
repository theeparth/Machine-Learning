{
  "nbformat": 4,
  "nbformat_minor": 0,
  "metadata": {
    "accelerator": "GPU",
    "colab": {
      "name": "SiameseNetworksForChessman.ipynb",
      "provenance": [],
      "collapsed_sections": [],
      "machine_shape": "hm"
    },
    "kernelspec": {
      "display_name": "Python 3",
      "name": "python3"
    },
    "language_info": {
      "name": "python"
    }
  },
  "cells": [
    {
      "cell_type": "code",
      "metadata": {
        "colab": {
          "base_uri": "https://localhost:8080/"
        },
        "id": "Xg9ArLjAY5k2",
        "outputId": "1c95ba03-dcc8-4516-ac75-770a38796e85"
      },
      "source": [
        "from google.colab import drive\n",
        "drive.mount('/content/drive')\n"
      ],
      "execution_count": 1,
      "outputs": [
        {
          "output_type": "stream",
          "name": "stdout",
          "text": [
            "Mounted at /content/drive\n"
          ]
        }
      ]
    },
    {
      "cell_type": "code",
      "metadata": {
        "id": "Eioseui3Zaj9"
      },
      "source": [
        "\n",
        "# Import OS for navigation and environment set up\n",
        "import os\n",
        "# Check current location, '/content' is the Colab virtual machine\n",
        "os.getcwd()\n",
        "# Enable the Kaggle environment, use the path to the directory your Kaggle API JSON is stored in\n",
        "os.environ['KAGGLE_CONFIG_DIR'] = '/content/drive/MyDrive/Kaggle'"
      ],
      "execution_count": 2,
      "outputs": []
    },
    {
      "cell_type": "code",
      "metadata": {
        "colab": {
          "base_uri": "https://localhost:8080/",
          "height": 37
        },
        "id": "F6hByXM-iWWU",
        "outputId": "8c933369-4e20-4803-9a11-27746fd61633"
      },
      "source": [
        "#parth - downloading data\n",
        "'''\n",
        "! pip install kaggle\n",
        "! mkdir ~/.kaggle\n",
        "! cp kaggle.json ~/.kaggle/\n",
        "! chmod 600 ~/.kaggle/kaggle.json\n",
        "! kaggle datasets download niteshfre/chessman-image-dataset\n",
        "! unzip chessman-image-dataset.zip\n",
        "'''"
      ],
      "execution_count": 3,
      "outputs": [
        {
          "output_type": "execute_result",
          "data": {
            "application/vnd.google.colaboratory.intrinsic+json": {
              "type": "string"
            },
            "text/plain": [
              "'\\n! pip install kaggle\\n! mkdir ~/.kaggle\\n! cp kaggle.json ~/.kaggle/\\n! chmod 600 ~/.kaggle/kaggle.json\\n! kaggle datasets download niteshfre/chessman-image-dataset\\n! unzip chessman-image-dataset.zip\\n'"
            ]
          },
          "metadata": {},
          "execution_count": 3
        }
      ]
    },
    {
      "cell_type": "code",
      "metadata": {
        "colab": {
          "base_uri": "https://localhost:8080/",
          "height": 37
        },
        "id": "b-aldc68X8dP",
        "outputId": "4b1335f2-c7d6-4227-b2ed-c53ea23b03de"
      },
      "source": [
        "# Downloading Kaggle Dataset\n",
        "'''\n",
        "!pip install kaggle -q\n",
        "!kaggle datasets download -d niteshfre/chessman-image-dataset\n",
        "os.listdir()\n",
        "!unzip chessman-image-dataset.zip\n",
        "'''"
      ],
      "execution_count": 4,
      "outputs": [
        {
          "output_type": "execute_result",
          "data": {
            "application/vnd.google.colaboratory.intrinsic+json": {
              "type": "string"
            },
            "text/plain": [
              "'\\n!pip install kaggle -q\\n!kaggle datasets download -d niteshfre/chessman-image-dataset\\nos.listdir()\\n!unzip chessman-image-dataset.zip\\n'"
            ]
          },
          "metadata": {},
          "execution_count": 4
        }
      ]
    },
    {
      "cell_type": "code",
      "metadata": {
        "id": "x5-z1cHzVspM"
      },
      "source": [
        "os.chdir('/content/drive/MyDrive/Kaggle')"
      ],
      "execution_count": 5,
      "outputs": []
    },
    {
      "cell_type": "code",
      "metadata": {
        "id": "D400RvOB0ZuW"
      },
      "source": [
        "import numpy as np\n",
        "import tensorflow as tf\n",
        "from tensorflow import keras\n",
        "import tensorflow.keras.backend as K\n",
        "from keras.layers import Input, Lambda, Dense, Flatten, Dropout, GaussianNoise, GlobalAveragePooling2D, Conv2D, MaxPooling2D, Input\n",
        "from keras.models import Model\n",
        "from keras.applications.vgg16 import VGG16\n",
        "from keras.applications.vgg16 import preprocess_input\n",
        "from keras.preprocessing import image\n",
        "from keras.preprocessing.image import ImageDataGenerator\n",
        "from keras.models import Sequential\n",
        "from glob import glob\n",
        "import sklearn\n",
        "from sklearn.model_selection import train_test_split\n",
        "import matplotlib.pyplot as plt\n"
      ],
      "execution_count": 6,
      "outputs": []
    },
    {
      "cell_type": "code",
      "metadata": {
        "id": "_1WGvaehaSAq"
      },
      "source": [
        "from keras.preprocessing.image import ImageDataGenerator\n",
        "class_names = ['Bishop', 'King','Knight','Pawn','Queen','Rook']\n",
        "image_size=(224,224)"
      ],
      "execution_count": 7,
      "outputs": []
    },
    {
      "cell_type": "code",
      "metadata": {
        "colab": {
          "base_uri": "https://localhost:8080/"
        },
        "id": "Qw7u6n7X0srL",
        "outputId": "4dcd4282-b73a-45ac-b58b-3decf6e84a36"
      },
      "source": [
        "path = 'Chessman-image-dataset/Chess'\n",
        "IMAGE_SIZE = [224, 224]\n",
        "batch = 32\n",
        "\n",
        "data = keras.preprocessing.image_dataset_from_directory(\n",
        "    path,\n",
        "    seed=20,\n",
        "    class_names=class_names,\n",
        "    image_size=IMAGE_SIZE,\n",
        "    label_mode='int',\n",
        "    batch_size=552\n",
        ")"
      ],
      "execution_count": 8,
      "outputs": [
        {
          "output_type": "stream",
          "name": "stdout",
          "text": [
            "Found 552 files belonging to 6 classes.\n"
          ]
        }
      ]
    },
    {
      "cell_type": "code",
      "metadata": {
        "id": "SnrEHb7TeKaZ"
      },
      "source": [
        "# Create Training Pairs\n",
        "\n",
        "def makePairs(images, labels, idx, pairMultiplier = 1):\n",
        "  # Pairs is a list of image training pairs\n",
        "  # Index[0] = (image, image) Index[1] = (label, label) -> ((),())\n",
        "  imagePairs = []\n",
        "  pairLabels = []\n",
        "\n",
        "  # Taken from Adrian Rosebrocks Siamese Networks Tutorial\n",
        "  numClasses = len(np.unique(labels))\n",
        "\n",
        "  # loop over all images\n",
        "  for idxA in range(len(images)):\n",
        "    # grab the current image and label belonging to the current\n",
        "    # iteration\n",
        "    currentImage = images[idxA]\n",
        "    label = labels[idxA]\n",
        "    for i in range(pairMultiplier):\n",
        "      # randomly pick an image that belongs to the *same* class\n",
        "      # label\n",
        "      idxB = np.random.choice(idx[label])\n",
        "      posImage = images[idxB]\n",
        "      # prepare a positive pair and update the images and labels\n",
        "      # lists, respectively\n",
        "      imagePairs.append([currentImage, posImage])\n",
        "      pairLabels.append([1])\n",
        "      # grab the indices for each of the class labels *not* equal to\n",
        "      # the current label and randomly pick an image corresponding\n",
        "      # to a label *not* equal to the current label\n",
        "      negIdx = np.where(labels != label)[0]\n",
        "      negImage = images[np.random.choice(negIdx)]\n",
        "      # prepare a negative pair of images and update our lists\n",
        "      imagePairs.append([currentImage, negImage])\n",
        "      pairLabels.append([0])\n",
        "  # return a 2-tuple of our image pairs and labels\n",
        "  return (np.array(imagePairs), np.array(pairLabels))"
      ],
      "execution_count": 9,
      "outputs": []
    },
    {
      "cell_type": "code",
      "metadata": {
        "id": "CDbW_ygW5UHb"
      },
      "source": [
        "images = []\n",
        "scaledImages = []\n",
        "labels = []\n",
        "\n",
        "# Each element contains a list of indices for the respective label\n",
        "# Ex: [0] contains a list of indices for the class labeled as \"0\"\n",
        "idx = [[], [], [], [], [], []]\n",
        "\n",
        "for input, output in data.as_numpy_iterator():\n",
        "  for i in range(len(input)):\n",
        "    images.append(input[i])\n",
        "    scaledImages.append(input[i]/255)\n",
        "    idx[output[i]].append(i)\n",
        "    labels.append(output[i])\n",
        "\n",
        "# ((posImg1, posImg2), (posImg1, negImg1))\n",
        "pair_train, label_train = makePairs(scaledImages, labels, idx, 2)\n",
        "pair_test, label_test = makePairs(scaledImages, labels, idx)\n",
        "# pair_train, pair_test, label_train, label_test = sklearn.model_selection.train_test_split(data_pairs_pos_neg[0], data_pairs_pos_neg[1], train_size=0.8,test_size=0.2, random_state=101)"
      ],
      "execution_count": 10,
      "outputs": []
    },
    {
      "cell_type": "code",
      "metadata": {
        "id": "1mTuSIkAvvwH"
      },
      "source": [
        "# Taken from Adrian Rosebrocks Siamese Networks Tutorial\n",
        "\n",
        "def euclideanDistance(vectors):\n",
        "\t# unpack the vectors into separate lists\n",
        "\t(featsA, featsB) = vectors\n",
        "\t# compute the sum of squared distances between the vectors\n",
        "\tsumSquared = K.sum(K.square(featsA - featsB), axis=1,\n",
        "\t\tkeepdims=True)\n",
        "\t# return the euclidean distance between the vectors\n",
        "\treturn K.sqrt(K.maximum(sumSquared, K.epsilon()))"
      ],
      "execution_count": 11,
      "outputs": []
    },
    {
      "cell_type": "code",
      "metadata": {
        "id": "LS8J1imt0pnH"
      },
      "source": [
        "def createVGGModel1():\n",
        "    # add preprocessing layer to the front of VGG\n",
        "    vgg = VGG16(input_shape=(IMAGE_SIZE + [3]), weights='imagenet', include_top=False,classes=2)\n",
        "\n",
        "    # don't train existing weights\n",
        "    for layer in vgg.layers:\n",
        "      layer.trainable = False\n",
        "\n",
        "    # our layers\n",
        "    \n",
        "    # Introduce Noise\n",
        "    input_layer = keras.layers.Input((224,224,3))\n",
        "    x = GaussianNoise(0.1)(input_layer)\n",
        "    x = vgg(x)\n",
        "\n",
        "    x = Conv2D(64, (1,1), activation='relu')(x)\n",
        "    x = Conv2D(64, (3,3), activation='relu')(x)\n",
        "    x = Conv2D(64, (1,1), activation='relu')(x)\n",
        "    x = Conv2D(64, (1,1), activation='relu')(x)\n",
        "    x = Conv2D(64, (3,3), activation='relu')(x)\n",
        "    x = Conv2D(64, (1,1), activation='relu')(x)\n",
        "    x = Conv2D(64, (1,1), activation='relu')(x)\n",
        "    x = Conv2D(64, (3,3), activation='relu')(x)\n",
        "    x = Conv2D(64, (1,1), activation='relu')(x)\n",
        "    x = Dense(100, activation='relu')(x)\n",
        "    x = Dense(10, activation ='relu')(x)\n",
        "    x = GlobalAveragePooling2D()(x)\n",
        "    embedding = Flatten()(x)\n",
        "\n",
        "    # create a model object\n",
        "    model = Model(inputs=input_layer, outputs=embedding)\n",
        "\n",
        "    return model\n",
        "\n",
        "def createVGGModel2():\n",
        "    # add preprocessing layer to the front of VGG\n",
        "    vgg = VGG16(input_shape=(IMAGE_SIZE + [3]), weights='imagenet', include_top=False,classes=6)\n",
        "\n",
        "    # don't train existing weights\n",
        "    for layer in vgg.layers:\n",
        "      layer.trainable = False\n",
        "  \n",
        "    # our layers\n",
        "    \n",
        "    # Introduce Noise\n",
        "    input_layer = keras.layers.Input((224,224,3))\n",
        "\n",
        "    # Pretrained Model\n",
        "    x = vgg(input_layer)\n",
        " \n",
        "    # our layers \n",
        "    x = Flatten()(x)\n",
        "    x = Dense(125, activation='relu')(x)\n",
        "    x = GaussianNoise(0.1)(x)\n",
        "    x = Dense(125, activation='relu')(x)\n",
        "    x = Dropout(0.2)(x)\n",
        "    embedding = Flatten()(x)\n",
        "\n",
        "    # create a model object\n",
        "    model = Model(inputs=input_layer, outputs=embedding)\n",
        "\n",
        "    return model\n",
        "\n",
        "def createCNN():\n",
        "  model = tf.keras.models.Sequential([\n",
        "    tf.keras.layers.Conv2D(64, (3,3), activation='relu', input_shape=(224, 224, 3)),\n",
        "    tf.keras.layers.Conv2D(32, (3,3), activation='relu'),\n",
        "    tf.keras.layers.MaxPooling2D(2,2),\n",
        "    tf.keras.layers.Conv2D(64, (3,3), activation='relu'),\n",
        "    tf.keras.layers.MaxPooling2D(2,2),\n",
        "    tf.keras.layers.Dropout(0.4),\n",
        "    tf.keras.layers.Conv2D(32, (3,3), activation='relu'),\n",
        "    tf.keras.layers.Conv2D(64, (3,3), activation='relu'),\n",
        "    tf.keras.layers.MaxPooling2D(2,2),\n",
        "    tf.keras.layers.Dropout(0.4),\n",
        "    tf.keras.layers.Flatten(), \n",
        "    tf.keras.layers.Dense(512, activation='relu'),\n",
        "    tf.keras.layers.Dense(256, activation='relu'),\n",
        "    tf.keras.layers.Flatten()])\n",
        "  \n",
        "  return model\n",
        "\n",
        "def build_siamese_model(inputShape=(224,224,3), embeddingDim=48):\n",
        "\t# specify the inputs for the feature extractor network\n",
        "\tinputs = Input(inputShape)\n",
        "\t# define the first set of CONV => RELU => POOL => DROPOUT layers\n",
        "\tx = Conv2D(64, (2, 2), padding=\"same\", activation=\"relu\")(inputs)\n",
        "\tx = MaxPooling2D(pool_size=(2, 2))(x)\n",
        "\tx = Dropout(0.3)(x)\n",
        "\t# second set of CONV => RELU => POOL => DROPOUT layers\n",
        "\tx = Conv2D(64, (2, 2), padding=\"same\", activation=\"relu\")(x)\n",
        "\tx = MaxPooling2D(pool_size=2)(x)\n",
        "\tx = Dropout(0.3)(x)\n",
        " \t# prepare the final outputs\n",
        "\tpooledOutput = GlobalAveragePooling2D()(x)\n",
        "\toutputs = Dense(embeddingDim)(pooledOutput)\n",
        "\t# build the model\n",
        "\tmodel = Model(inputs, outputs)\n",
        "\t# return the model to the calling function\n",
        "\treturn model"
      ],
      "execution_count": 53,
      "outputs": []
    },
    {
      "cell_type": "code",
      "metadata": {
        "id": "9VVA_EW-RsI7"
      },
      "source": [
        "def createSimpleCNN():\n",
        "\n",
        "  model = tf.keras.models.Sequential([\n",
        "    tf.keras.layers.Conv2D(1, (1,1), activation='relu', input_shape=(224, 224, 3)),\n",
        "    tf.keras.layers.Conv2D(1, (3,3), activation='relu'),\n",
        "    tf.keras.layers.Conv2D(3, (1,1), activation='relu'),\n",
        "    tf.keras.layers.MaxPooling2D(2,2),\n",
        "    tf.keras.layers.Conv2D(1, (1,1), activation='relu'),\n",
        "    tf.keras.layers.Conv2D(1, (3,3), activation='relu'),\n",
        "    tf.keras.layers.Conv2D(3, (1,1), activation='relu'),\n",
        "    tf.keras.layers.GlobalAveragePooling2D(),\n",
        "    tf.keras.layers.Flatten()])\n",
        "  \n",
        "  return model\n",
        "\n"
      ],
      "execution_count": 13,
      "outputs": []
    },
    {
      "cell_type": "code",
      "metadata": {
        "id": "dVmKbPGwaE0I"
      },
      "source": [
        "def createNN():\n",
        "    input = Input(shape=(224,224, 3))\n",
        "    x = Flatten()(input)\n",
        "    x = Dense(128, activation='relu')(x)\n",
        "    x = Dropout(0.1)(x)\n",
        "    x = Dense(128, activation='relu')(x)\n",
        "    x = Dropout(0.1)(x)\n",
        "    x = Dense(128, activation='relu')(x)\n",
        "\n",
        "    return Model(inputs=input, outputs = x)"
      ],
      "execution_count": 14,
      "outputs": []
    },
    {
      "cell_type": "code",
      "metadata": {
        "colab": {
          "base_uri": "https://localhost:8080/",
          "height": 1000
        },
        "id": "GV5c3KXDk880",
        "outputId": "cb203a0d-a562-4708-cacb-2e2f28c72fff"
      },
      "source": [
        "# Taken from Adrian Rosebrocks Siamese Networks Tutorial\n",
        "\n",
        "print(\"[INFO] building siamese network...\")\n",
        "imgA = Input(shape=(224, 224, 3))\n",
        "imgB = Input(shape=(224, 224, 3))\n",
        "\n",
        "model = createVGGModel1()\n",
        "featureExtractor = model\n",
        "featsA = featureExtractor(imgA)\n",
        "featsB = featureExtractor(imgB)\n",
        "\n",
        "# Calculate euclidean distance between both feature vectors\n",
        "distance = Lambda(euclideanDistance)((featsA, featsB))\n",
        "# Values closer to 1 indicate similar images, and vice versa\n",
        "outputs = Dense(1, activation=\"sigmoid\")(distance)\n",
        "model = Model(inputs=[imgA, imgB], outputs=outputs)\n",
        "\n",
        "\n",
        "# tell the model what cost and optimization method to use\n",
        "print(\"[INFO] compiling model...\")\n",
        "model.compile(loss=\"binary_crossentropy\", optimizer=\"adam\",\n",
        "\tmetrics=[\"accuracy\"])\n",
        "\n",
        "model.summary()\n",
        "\n",
        "# train the model\n",
        "print(\"[INFO] training model...\")\n",
        "history = model.fit(\n",
        "\t[pair_train[:, 0], pair_train[:, 1]], label_train[:],\n",
        "\tvalidation_data=([pair_test[:, 0], pair_test[:, 1]], label_test[:]),\n",
        "\tbatch_size=16, \n",
        "\tepochs=40)\n",
        "\n"
      ],
      "execution_count": 52,
      "outputs": [
        {
          "output_type": "stream",
          "name": "stdout",
          "text": [
            "[INFO] building siamese network...\n",
            "[INFO] compiling model...\n",
            "Model: \"model_7\"\n",
            "__________________________________________________________________________________________________\n",
            " Layer (type)                   Output Shape         Param #     Connected to                     \n",
            "==================================================================================================\n",
            " input_45 (InputLayer)          [(None, 224, 224, 3  0           []                               \n",
            "                                )]                                                                \n",
            "                                                                                                  \n",
            " input_46 (InputLayer)          [(None, 224, 224, 3  0           []                               \n",
            "                                )]                                                                \n",
            "                                                                                                  \n",
            " model_6 (Functional)           (None, 10)           14886614    ['input_45[0][0]',               \n",
            "                                                                  'input_46[0][0]']               \n",
            "                                                                                                  \n",
            " lambda_3 (Lambda)              (None, 1)            0           ['model_6[0][0]',                \n",
            "                                                                  'model_6[1][0]']                \n",
            "                                                                                                  \n",
            " dense_11 (Dense)               (None, 1)            2           ['lambda_3[0][0]']               \n",
            "                                                                                                  \n",
            "==================================================================================================\n",
            "Total params: 14,886,616\n",
            "Trainable params: 171,928\n",
            "Non-trainable params: 14,714,688\n",
            "__________________________________________________________________________________________________\n",
            "[INFO] training model...\n",
            "Epoch 1/40\n",
            "138/138 [==============================] - 17s 110ms/step - loss: 0.6944 - accuracy: 0.4968 - val_loss: 0.6939 - val_accuracy: 0.4900\n",
            "Epoch 2/40\n",
            "138/138 [==============================] - 14s 101ms/step - loss: 0.6939 - accuracy: 0.4792 - val_loss: 0.6932 - val_accuracy: 0.4964\n",
            "Epoch 3/40\n",
            "138/138 [==============================] - 14s 101ms/step - loss: 0.6936 - accuracy: 0.5204 - val_loss: 0.6932 - val_accuracy: 0.4955\n",
            "Epoch 4/40\n",
            "138/138 [==============================] - 14s 101ms/step - loss: 0.6932 - accuracy: 0.5009 - val_loss: 0.6932 - val_accuracy: 0.5000\n",
            "Epoch 5/40\n",
            "138/138 [==============================] - 14s 101ms/step - loss: 0.6932 - accuracy: 0.5000 - val_loss: 0.6932 - val_accuracy: 0.5000\n",
            "Epoch 6/40\n",
            "138/138 [==============================] - 14s 101ms/step - loss: 0.6932 - accuracy: 0.5000 - val_loss: 0.6932 - val_accuracy: 0.5000\n",
            "Epoch 7/40\n",
            "138/138 [==============================] - 14s 102ms/step - loss: 0.6932 - accuracy: 0.5000 - val_loss: 0.6932 - val_accuracy: 0.5000\n",
            "Epoch 8/40\n",
            "  2/138 [..............................] - ETA: 9s - loss: 0.6924 - accuracy: 0.6250"
          ]
        },
        {
          "output_type": "error",
          "ename": "KeyboardInterrupt",
          "evalue": "ignored",
          "traceback": [
            "\u001b[0;31m---------------------------------------------------------------------------\u001b[0m",
            "\u001b[0;31mKeyboardInterrupt\u001b[0m                         Traceback (most recent call last)",
            "\u001b[0;32m<ipython-input-52-4367e5a4896f>\u001b[0m in \u001b[0;36m<module>\u001b[0;34m()\u001b[0m\n\u001b[1;32m     30\u001b[0m         \u001b[0mvalidation_data\u001b[0m\u001b[0;34m=\u001b[0m\u001b[0;34m(\u001b[0m\u001b[0;34m[\u001b[0m\u001b[0mpair_test\u001b[0m\u001b[0;34m[\u001b[0m\u001b[0;34m:\u001b[0m\u001b[0;34m,\u001b[0m \u001b[0;36m0\u001b[0m\u001b[0;34m]\u001b[0m\u001b[0;34m,\u001b[0m \u001b[0mpair_test\u001b[0m\u001b[0;34m[\u001b[0m\u001b[0;34m:\u001b[0m\u001b[0;34m,\u001b[0m \u001b[0;36m1\u001b[0m\u001b[0;34m]\u001b[0m\u001b[0;34m]\u001b[0m\u001b[0;34m,\u001b[0m \u001b[0mlabel_test\u001b[0m\u001b[0;34m[\u001b[0m\u001b[0;34m:\u001b[0m\u001b[0;34m]\u001b[0m\u001b[0;34m)\u001b[0m\u001b[0;34m,\u001b[0m\u001b[0;34m\u001b[0m\u001b[0;34m\u001b[0m\u001b[0m\n\u001b[1;32m     31\u001b[0m         \u001b[0mbatch_size\u001b[0m\u001b[0;34m=\u001b[0m\u001b[0;36m16\u001b[0m\u001b[0;34m,\u001b[0m\u001b[0;34m\u001b[0m\u001b[0;34m\u001b[0m\u001b[0m\n\u001b[0;32m---> 32\u001b[0;31m \tepochs=40)\n\u001b[0m\u001b[1;32m     33\u001b[0m \u001b[0;34m\u001b[0m\u001b[0m\n",
            "\u001b[0;32m/usr/local/lib/python3.7/dist-packages/keras/utils/traceback_utils.py\u001b[0m in \u001b[0;36merror_handler\u001b[0;34m(*args, **kwargs)\u001b[0m\n\u001b[1;32m     62\u001b[0m     \u001b[0mfiltered_tb\u001b[0m \u001b[0;34m=\u001b[0m \u001b[0;32mNone\u001b[0m\u001b[0;34m\u001b[0m\u001b[0;34m\u001b[0m\u001b[0m\n\u001b[1;32m     63\u001b[0m     \u001b[0;32mtry\u001b[0m\u001b[0;34m:\u001b[0m\u001b[0;34m\u001b[0m\u001b[0;34m\u001b[0m\u001b[0m\n\u001b[0;32m---> 64\u001b[0;31m       \u001b[0;32mreturn\u001b[0m \u001b[0mfn\u001b[0m\u001b[0;34m(\u001b[0m\u001b[0;34m*\u001b[0m\u001b[0margs\u001b[0m\u001b[0;34m,\u001b[0m \u001b[0;34m**\u001b[0m\u001b[0mkwargs\u001b[0m\u001b[0;34m)\u001b[0m\u001b[0;34m\u001b[0m\u001b[0;34m\u001b[0m\u001b[0m\n\u001b[0m\u001b[1;32m     65\u001b[0m     \u001b[0;32mexcept\u001b[0m \u001b[0mException\u001b[0m \u001b[0;32mas\u001b[0m \u001b[0me\u001b[0m\u001b[0;34m:\u001b[0m  \u001b[0;31m# pylint: disable=broad-except\u001b[0m\u001b[0;34m\u001b[0m\u001b[0;34m\u001b[0m\u001b[0m\n\u001b[1;32m     66\u001b[0m       \u001b[0mfiltered_tb\u001b[0m \u001b[0;34m=\u001b[0m \u001b[0m_process_traceback_frames\u001b[0m\u001b[0;34m(\u001b[0m\u001b[0me\u001b[0m\u001b[0;34m.\u001b[0m\u001b[0m__traceback__\u001b[0m\u001b[0;34m)\u001b[0m\u001b[0;34m\u001b[0m\u001b[0;34m\u001b[0m\u001b[0m\n",
            "\u001b[0;32m/usr/local/lib/python3.7/dist-packages/keras/engine/training.py\u001b[0m in \u001b[0;36mfit\u001b[0;34m(self, x, y, batch_size, epochs, verbose, callbacks, validation_split, validation_data, shuffle, class_weight, sample_weight, initial_epoch, steps_per_epoch, validation_steps, validation_batch_size, validation_freq, max_queue_size, workers, use_multiprocessing)\u001b[0m\n\u001b[1;32m   1219\u001b[0m               \u001b[0mlogs\u001b[0m \u001b[0;34m=\u001b[0m \u001b[0mtmp_logs\u001b[0m  \u001b[0;31m# No error, now safe to assign to logs.\u001b[0m\u001b[0;34m\u001b[0m\u001b[0;34m\u001b[0m\u001b[0m\n\u001b[1;32m   1220\u001b[0m               \u001b[0mend_step\u001b[0m \u001b[0;34m=\u001b[0m \u001b[0mstep\u001b[0m \u001b[0;34m+\u001b[0m \u001b[0mdata_handler\u001b[0m\u001b[0;34m.\u001b[0m\u001b[0mstep_increment\u001b[0m\u001b[0;34m\u001b[0m\u001b[0;34m\u001b[0m\u001b[0m\n\u001b[0;32m-> 1221\u001b[0;31m               \u001b[0mcallbacks\u001b[0m\u001b[0;34m.\u001b[0m\u001b[0mon_train_batch_end\u001b[0m\u001b[0;34m(\u001b[0m\u001b[0mend_step\u001b[0m\u001b[0;34m,\u001b[0m \u001b[0mlogs\u001b[0m\u001b[0;34m)\u001b[0m\u001b[0;34m\u001b[0m\u001b[0;34m\u001b[0m\u001b[0m\n\u001b[0m\u001b[1;32m   1222\u001b[0m               \u001b[0;32mif\u001b[0m \u001b[0mself\u001b[0m\u001b[0;34m.\u001b[0m\u001b[0mstop_training\u001b[0m\u001b[0;34m:\u001b[0m\u001b[0;34m\u001b[0m\u001b[0;34m\u001b[0m\u001b[0m\n\u001b[1;32m   1223\u001b[0m                 \u001b[0;32mbreak\u001b[0m\u001b[0;34m\u001b[0m\u001b[0;34m\u001b[0m\u001b[0m\n",
            "\u001b[0;32m/usr/local/lib/python3.7/dist-packages/keras/callbacks.py\u001b[0m in \u001b[0;36mon_train_batch_end\u001b[0;34m(self, batch, logs)\u001b[0m\n\u001b[1;32m    434\u001b[0m     \"\"\"\n\u001b[1;32m    435\u001b[0m     \u001b[0;32mif\u001b[0m \u001b[0mself\u001b[0m\u001b[0;34m.\u001b[0m\u001b[0m_should_call_train_batch_hooks\u001b[0m\u001b[0;34m:\u001b[0m\u001b[0;34m\u001b[0m\u001b[0;34m\u001b[0m\u001b[0m\n\u001b[0;32m--> 436\u001b[0;31m       \u001b[0mself\u001b[0m\u001b[0;34m.\u001b[0m\u001b[0m_call_batch_hook\u001b[0m\u001b[0;34m(\u001b[0m\u001b[0mModeKeys\u001b[0m\u001b[0;34m.\u001b[0m\u001b[0mTRAIN\u001b[0m\u001b[0;34m,\u001b[0m \u001b[0;34m'end'\u001b[0m\u001b[0;34m,\u001b[0m \u001b[0mbatch\u001b[0m\u001b[0;34m,\u001b[0m \u001b[0mlogs\u001b[0m\u001b[0;34m=\u001b[0m\u001b[0mlogs\u001b[0m\u001b[0;34m)\u001b[0m\u001b[0;34m\u001b[0m\u001b[0;34m\u001b[0m\u001b[0m\n\u001b[0m\u001b[1;32m    437\u001b[0m \u001b[0;34m\u001b[0m\u001b[0m\n\u001b[1;32m    438\u001b[0m   \u001b[0;32mdef\u001b[0m \u001b[0mon_test_batch_begin\u001b[0m\u001b[0;34m(\u001b[0m\u001b[0mself\u001b[0m\u001b[0;34m,\u001b[0m \u001b[0mbatch\u001b[0m\u001b[0;34m,\u001b[0m \u001b[0mlogs\u001b[0m\u001b[0;34m=\u001b[0m\u001b[0;32mNone\u001b[0m\u001b[0;34m)\u001b[0m\u001b[0;34m:\u001b[0m\u001b[0;34m\u001b[0m\u001b[0;34m\u001b[0m\u001b[0m\n",
            "\u001b[0;32m/usr/local/lib/python3.7/dist-packages/keras/callbacks.py\u001b[0m in \u001b[0;36m_call_batch_hook\u001b[0;34m(self, mode, hook, batch, logs)\u001b[0m\n\u001b[1;32m    293\u001b[0m       \u001b[0mself\u001b[0m\u001b[0;34m.\u001b[0m\u001b[0m_call_batch_begin_hook\u001b[0m\u001b[0;34m(\u001b[0m\u001b[0mmode\u001b[0m\u001b[0;34m,\u001b[0m \u001b[0mbatch\u001b[0m\u001b[0;34m,\u001b[0m \u001b[0mlogs\u001b[0m\u001b[0;34m)\u001b[0m\u001b[0;34m\u001b[0m\u001b[0;34m\u001b[0m\u001b[0m\n\u001b[1;32m    294\u001b[0m     \u001b[0;32melif\u001b[0m \u001b[0mhook\u001b[0m \u001b[0;34m==\u001b[0m \u001b[0;34m'end'\u001b[0m\u001b[0;34m:\u001b[0m\u001b[0;34m\u001b[0m\u001b[0;34m\u001b[0m\u001b[0m\n\u001b[0;32m--> 295\u001b[0;31m       \u001b[0mself\u001b[0m\u001b[0;34m.\u001b[0m\u001b[0m_call_batch_end_hook\u001b[0m\u001b[0;34m(\u001b[0m\u001b[0mmode\u001b[0m\u001b[0;34m,\u001b[0m \u001b[0mbatch\u001b[0m\u001b[0;34m,\u001b[0m \u001b[0mlogs\u001b[0m\u001b[0;34m)\u001b[0m\u001b[0;34m\u001b[0m\u001b[0;34m\u001b[0m\u001b[0m\n\u001b[0m\u001b[1;32m    296\u001b[0m     \u001b[0;32melse\u001b[0m\u001b[0;34m:\u001b[0m\u001b[0;34m\u001b[0m\u001b[0;34m\u001b[0m\u001b[0m\n\u001b[1;32m    297\u001b[0m       raise ValueError(\n",
            "\u001b[0;32m/usr/local/lib/python3.7/dist-packages/keras/callbacks.py\u001b[0m in \u001b[0;36m_call_batch_end_hook\u001b[0;34m(self, mode, batch, logs)\u001b[0m\n\u001b[1;32m    314\u001b[0m       \u001b[0mself\u001b[0m\u001b[0;34m.\u001b[0m\u001b[0m_batch_times\u001b[0m\u001b[0;34m.\u001b[0m\u001b[0mappend\u001b[0m\u001b[0;34m(\u001b[0m\u001b[0mbatch_time\u001b[0m\u001b[0;34m)\u001b[0m\u001b[0;34m\u001b[0m\u001b[0;34m\u001b[0m\u001b[0m\n\u001b[1;32m    315\u001b[0m \u001b[0;34m\u001b[0m\u001b[0m\n\u001b[0;32m--> 316\u001b[0;31m     \u001b[0mself\u001b[0m\u001b[0;34m.\u001b[0m\u001b[0m_call_batch_hook_helper\u001b[0m\u001b[0;34m(\u001b[0m\u001b[0mhook_name\u001b[0m\u001b[0;34m,\u001b[0m \u001b[0mbatch\u001b[0m\u001b[0;34m,\u001b[0m \u001b[0mlogs\u001b[0m\u001b[0;34m)\u001b[0m\u001b[0;34m\u001b[0m\u001b[0;34m\u001b[0m\u001b[0m\n\u001b[0m\u001b[1;32m    317\u001b[0m \u001b[0;34m\u001b[0m\u001b[0m\n\u001b[1;32m    318\u001b[0m     \u001b[0;32mif\u001b[0m \u001b[0mlen\u001b[0m\u001b[0;34m(\u001b[0m\u001b[0mself\u001b[0m\u001b[0;34m.\u001b[0m\u001b[0m_batch_times\u001b[0m\u001b[0;34m)\u001b[0m \u001b[0;34m>=\u001b[0m \u001b[0mself\u001b[0m\u001b[0;34m.\u001b[0m\u001b[0m_num_batches_for_timing_check\u001b[0m\u001b[0;34m:\u001b[0m\u001b[0;34m\u001b[0m\u001b[0;34m\u001b[0m\u001b[0m\n",
            "\u001b[0;32m/usr/local/lib/python3.7/dist-packages/keras/callbacks.py\u001b[0m in \u001b[0;36m_call_batch_hook_helper\u001b[0;34m(self, hook_name, batch, logs)\u001b[0m\n\u001b[1;32m    352\u001b[0m     \u001b[0;32mfor\u001b[0m \u001b[0mcallback\u001b[0m \u001b[0;32min\u001b[0m \u001b[0mself\u001b[0m\u001b[0;34m.\u001b[0m\u001b[0mcallbacks\u001b[0m\u001b[0;34m:\u001b[0m\u001b[0;34m\u001b[0m\u001b[0;34m\u001b[0m\u001b[0m\n\u001b[1;32m    353\u001b[0m       \u001b[0mhook\u001b[0m \u001b[0;34m=\u001b[0m \u001b[0mgetattr\u001b[0m\u001b[0;34m(\u001b[0m\u001b[0mcallback\u001b[0m\u001b[0;34m,\u001b[0m \u001b[0mhook_name\u001b[0m\u001b[0;34m)\u001b[0m\u001b[0;34m\u001b[0m\u001b[0;34m\u001b[0m\u001b[0m\n\u001b[0;32m--> 354\u001b[0;31m       \u001b[0mhook\u001b[0m\u001b[0;34m(\u001b[0m\u001b[0mbatch\u001b[0m\u001b[0;34m,\u001b[0m \u001b[0mlogs\u001b[0m\u001b[0;34m)\u001b[0m\u001b[0;34m\u001b[0m\u001b[0;34m\u001b[0m\u001b[0m\n\u001b[0m\u001b[1;32m    355\u001b[0m \u001b[0;34m\u001b[0m\u001b[0m\n\u001b[1;32m    356\u001b[0m     \u001b[0;32mif\u001b[0m \u001b[0mself\u001b[0m\u001b[0;34m.\u001b[0m\u001b[0m_check_timing\u001b[0m\u001b[0;34m:\u001b[0m\u001b[0;34m\u001b[0m\u001b[0;34m\u001b[0m\u001b[0m\n",
            "\u001b[0;32m/usr/local/lib/python3.7/dist-packages/keras/callbacks.py\u001b[0m in \u001b[0;36mon_train_batch_end\u001b[0;34m(self, batch, logs)\u001b[0m\n\u001b[1;32m   1030\u001b[0m \u001b[0;34m\u001b[0m\u001b[0m\n\u001b[1;32m   1031\u001b[0m   \u001b[0;32mdef\u001b[0m \u001b[0mon_train_batch_end\u001b[0m\u001b[0;34m(\u001b[0m\u001b[0mself\u001b[0m\u001b[0;34m,\u001b[0m \u001b[0mbatch\u001b[0m\u001b[0;34m,\u001b[0m \u001b[0mlogs\u001b[0m\u001b[0;34m=\u001b[0m\u001b[0;32mNone\u001b[0m\u001b[0;34m)\u001b[0m\u001b[0;34m:\u001b[0m\u001b[0;34m\u001b[0m\u001b[0;34m\u001b[0m\u001b[0m\n\u001b[0;32m-> 1032\u001b[0;31m     \u001b[0mself\u001b[0m\u001b[0;34m.\u001b[0m\u001b[0m_batch_update_progbar\u001b[0m\u001b[0;34m(\u001b[0m\u001b[0mbatch\u001b[0m\u001b[0;34m,\u001b[0m \u001b[0mlogs\u001b[0m\u001b[0;34m)\u001b[0m\u001b[0;34m\u001b[0m\u001b[0;34m\u001b[0m\u001b[0m\n\u001b[0m\u001b[1;32m   1033\u001b[0m \u001b[0;34m\u001b[0m\u001b[0m\n\u001b[1;32m   1034\u001b[0m   \u001b[0;32mdef\u001b[0m \u001b[0mon_test_batch_end\u001b[0m\u001b[0;34m(\u001b[0m\u001b[0mself\u001b[0m\u001b[0;34m,\u001b[0m \u001b[0mbatch\u001b[0m\u001b[0;34m,\u001b[0m \u001b[0mlogs\u001b[0m\u001b[0;34m=\u001b[0m\u001b[0;32mNone\u001b[0m\u001b[0;34m)\u001b[0m\u001b[0;34m:\u001b[0m\u001b[0;34m\u001b[0m\u001b[0;34m\u001b[0m\u001b[0m\n",
            "\u001b[0;32m/usr/local/lib/python3.7/dist-packages/keras/callbacks.py\u001b[0m in \u001b[0;36m_batch_update_progbar\u001b[0;34m(self, batch, logs)\u001b[0m\n\u001b[1;32m   1102\u001b[0m     \u001b[0;32mif\u001b[0m \u001b[0mself\u001b[0m\u001b[0;34m.\u001b[0m\u001b[0mverbose\u001b[0m \u001b[0;34m==\u001b[0m \u001b[0;36m1\u001b[0m\u001b[0;34m:\u001b[0m\u001b[0;34m\u001b[0m\u001b[0;34m\u001b[0m\u001b[0m\n\u001b[1;32m   1103\u001b[0m       \u001b[0;31m# Only block async when verbose = 1.\u001b[0m\u001b[0;34m\u001b[0m\u001b[0;34m\u001b[0m\u001b[0;34m\u001b[0m\u001b[0m\n\u001b[0;32m-> 1104\u001b[0;31m       \u001b[0mlogs\u001b[0m \u001b[0;34m=\u001b[0m \u001b[0mtf_utils\u001b[0m\u001b[0;34m.\u001b[0m\u001b[0msync_to_numpy_or_python_type\u001b[0m\u001b[0;34m(\u001b[0m\u001b[0mlogs\u001b[0m\u001b[0;34m)\u001b[0m\u001b[0;34m\u001b[0m\u001b[0;34m\u001b[0m\u001b[0m\n\u001b[0m\u001b[1;32m   1105\u001b[0m       \u001b[0mself\u001b[0m\u001b[0;34m.\u001b[0m\u001b[0mprogbar\u001b[0m\u001b[0;34m.\u001b[0m\u001b[0mupdate\u001b[0m\u001b[0;34m(\u001b[0m\u001b[0mself\u001b[0m\u001b[0;34m.\u001b[0m\u001b[0mseen\u001b[0m\u001b[0;34m,\u001b[0m \u001b[0mlist\u001b[0m\u001b[0;34m(\u001b[0m\u001b[0mlogs\u001b[0m\u001b[0;34m.\u001b[0m\u001b[0mitems\u001b[0m\u001b[0;34m(\u001b[0m\u001b[0;34m)\u001b[0m\u001b[0;34m)\u001b[0m\u001b[0;34m,\u001b[0m \u001b[0mfinalize\u001b[0m\u001b[0;34m=\u001b[0m\u001b[0;32mFalse\u001b[0m\u001b[0;34m)\u001b[0m\u001b[0;34m\u001b[0m\u001b[0;34m\u001b[0m\u001b[0m\n\u001b[1;32m   1106\u001b[0m \u001b[0;34m\u001b[0m\u001b[0m\n",
            "\u001b[0;32m/usr/local/lib/python3.7/dist-packages/keras/utils/tf_utils.py\u001b[0m in \u001b[0;36msync_to_numpy_or_python_type\u001b[0;34m(tensors)\u001b[0m\n\u001b[1;32m    552\u001b[0m     \u001b[0;32mreturn\u001b[0m \u001b[0mt\u001b[0m  \u001b[0;31m# Don't turn ragged or sparse tensors to NumPy.\u001b[0m\u001b[0;34m\u001b[0m\u001b[0;34m\u001b[0m\u001b[0m\n\u001b[1;32m    553\u001b[0m \u001b[0;34m\u001b[0m\u001b[0m\n\u001b[0;32m--> 554\u001b[0;31m   \u001b[0;32mreturn\u001b[0m \u001b[0mtf\u001b[0m\u001b[0;34m.\u001b[0m\u001b[0mnest\u001b[0m\u001b[0;34m.\u001b[0m\u001b[0mmap_structure\u001b[0m\u001b[0;34m(\u001b[0m\u001b[0m_to_single_numpy_or_python_type\u001b[0m\u001b[0;34m,\u001b[0m \u001b[0mtensors\u001b[0m\u001b[0;34m)\u001b[0m\u001b[0;34m\u001b[0m\u001b[0;34m\u001b[0m\u001b[0m\n\u001b[0m\u001b[1;32m    555\u001b[0m \u001b[0;34m\u001b[0m\u001b[0m\n\u001b[1;32m    556\u001b[0m \u001b[0;34m\u001b[0m\u001b[0m\n",
            "\u001b[0;32m/usr/local/lib/python3.7/dist-packages/tensorflow/python/util/nest.py\u001b[0m in \u001b[0;36mmap_structure\u001b[0;34m(func, *structure, **kwargs)\u001b[0m\n\u001b[1;32m    867\u001b[0m \u001b[0;34m\u001b[0m\u001b[0m\n\u001b[1;32m    868\u001b[0m   return pack_sequence_as(\n\u001b[0;32m--> 869\u001b[0;31m       \u001b[0mstructure\u001b[0m\u001b[0;34m[\u001b[0m\u001b[0;36m0\u001b[0m\u001b[0;34m]\u001b[0m\u001b[0;34m,\u001b[0m \u001b[0;34m[\u001b[0m\u001b[0mfunc\u001b[0m\u001b[0;34m(\u001b[0m\u001b[0;34m*\u001b[0m\u001b[0mx\u001b[0m\u001b[0;34m)\u001b[0m \u001b[0;32mfor\u001b[0m \u001b[0mx\u001b[0m \u001b[0;32min\u001b[0m \u001b[0mentries\u001b[0m\u001b[0;34m]\u001b[0m\u001b[0;34m,\u001b[0m\u001b[0;34m\u001b[0m\u001b[0;34m\u001b[0m\u001b[0m\n\u001b[0m\u001b[1;32m    870\u001b[0m       expand_composites=expand_composites)\n\u001b[1;32m    871\u001b[0m \u001b[0;34m\u001b[0m\u001b[0m\n",
            "\u001b[0;32m/usr/local/lib/python3.7/dist-packages/tensorflow/python/util/nest.py\u001b[0m in \u001b[0;36m<listcomp>\u001b[0;34m(.0)\u001b[0m\n\u001b[1;32m    867\u001b[0m \u001b[0;34m\u001b[0m\u001b[0m\n\u001b[1;32m    868\u001b[0m   return pack_sequence_as(\n\u001b[0;32m--> 869\u001b[0;31m       \u001b[0mstructure\u001b[0m\u001b[0;34m[\u001b[0m\u001b[0;36m0\u001b[0m\u001b[0;34m]\u001b[0m\u001b[0;34m,\u001b[0m \u001b[0;34m[\u001b[0m\u001b[0mfunc\u001b[0m\u001b[0;34m(\u001b[0m\u001b[0;34m*\u001b[0m\u001b[0mx\u001b[0m\u001b[0;34m)\u001b[0m \u001b[0;32mfor\u001b[0m \u001b[0mx\u001b[0m \u001b[0;32min\u001b[0m \u001b[0mentries\u001b[0m\u001b[0;34m]\u001b[0m\u001b[0;34m,\u001b[0m\u001b[0;34m\u001b[0m\u001b[0;34m\u001b[0m\u001b[0m\n\u001b[0m\u001b[1;32m    870\u001b[0m       expand_composites=expand_composites)\n\u001b[1;32m    871\u001b[0m \u001b[0;34m\u001b[0m\u001b[0m\n",
            "\u001b[0;32m/usr/local/lib/python3.7/dist-packages/keras/utils/tf_utils.py\u001b[0m in \u001b[0;36m_to_single_numpy_or_python_type\u001b[0;34m(t)\u001b[0m\n\u001b[1;32m    548\u001b[0m   \u001b[0;32mdef\u001b[0m \u001b[0m_to_single_numpy_or_python_type\u001b[0m\u001b[0;34m(\u001b[0m\u001b[0mt\u001b[0m\u001b[0;34m)\u001b[0m\u001b[0;34m:\u001b[0m\u001b[0;34m\u001b[0m\u001b[0;34m\u001b[0m\u001b[0m\n\u001b[1;32m    549\u001b[0m     \u001b[0;32mif\u001b[0m \u001b[0misinstance\u001b[0m\u001b[0;34m(\u001b[0m\u001b[0mt\u001b[0m\u001b[0;34m,\u001b[0m \u001b[0mtf\u001b[0m\u001b[0;34m.\u001b[0m\u001b[0mTensor\u001b[0m\u001b[0;34m)\u001b[0m\u001b[0;34m:\u001b[0m\u001b[0;34m\u001b[0m\u001b[0;34m\u001b[0m\u001b[0m\n\u001b[0;32m--> 550\u001b[0;31m       \u001b[0mx\u001b[0m \u001b[0;34m=\u001b[0m \u001b[0mt\u001b[0m\u001b[0;34m.\u001b[0m\u001b[0mnumpy\u001b[0m\u001b[0;34m(\u001b[0m\u001b[0;34m)\u001b[0m\u001b[0;34m\u001b[0m\u001b[0;34m\u001b[0m\u001b[0m\n\u001b[0m\u001b[1;32m    551\u001b[0m       \u001b[0;32mreturn\u001b[0m \u001b[0mx\u001b[0m\u001b[0;34m.\u001b[0m\u001b[0mitem\u001b[0m\u001b[0;34m(\u001b[0m\u001b[0;34m)\u001b[0m \u001b[0;32mif\u001b[0m \u001b[0mnp\u001b[0m\u001b[0;34m.\u001b[0m\u001b[0mndim\u001b[0m\u001b[0;34m(\u001b[0m\u001b[0mx\u001b[0m\u001b[0;34m)\u001b[0m \u001b[0;34m==\u001b[0m \u001b[0;36m0\u001b[0m \u001b[0;32melse\u001b[0m \u001b[0mx\u001b[0m\u001b[0;34m\u001b[0m\u001b[0;34m\u001b[0m\u001b[0m\n\u001b[1;32m    552\u001b[0m     \u001b[0;32mreturn\u001b[0m \u001b[0mt\u001b[0m  \u001b[0;31m# Don't turn ragged or sparse tensors to NumPy.\u001b[0m\u001b[0;34m\u001b[0m\u001b[0;34m\u001b[0m\u001b[0m\n",
            "\u001b[0;32m/usr/local/lib/python3.7/dist-packages/tensorflow/python/framework/ops.py\u001b[0m in \u001b[0;36mnumpy\u001b[0;34m(self)\u001b[0m\n\u001b[1;32m   1147\u001b[0m     \"\"\"\n\u001b[1;32m   1148\u001b[0m     \u001b[0;31m# TODO(slebedev): Consider avoiding a copy for non-CPU or remote tensors.\u001b[0m\u001b[0;34m\u001b[0m\u001b[0;34m\u001b[0m\u001b[0;34m\u001b[0m\u001b[0m\n\u001b[0;32m-> 1149\u001b[0;31m     \u001b[0mmaybe_arr\u001b[0m \u001b[0;34m=\u001b[0m \u001b[0mself\u001b[0m\u001b[0;34m.\u001b[0m\u001b[0m_numpy\u001b[0m\u001b[0;34m(\u001b[0m\u001b[0;34m)\u001b[0m  \u001b[0;31m# pylint: disable=protected-access\u001b[0m\u001b[0;34m\u001b[0m\u001b[0;34m\u001b[0m\u001b[0m\n\u001b[0m\u001b[1;32m   1150\u001b[0m     \u001b[0;32mreturn\u001b[0m \u001b[0mmaybe_arr\u001b[0m\u001b[0;34m.\u001b[0m\u001b[0mcopy\u001b[0m\u001b[0;34m(\u001b[0m\u001b[0;34m)\u001b[0m \u001b[0;32mif\u001b[0m \u001b[0misinstance\u001b[0m\u001b[0;34m(\u001b[0m\u001b[0mmaybe_arr\u001b[0m\u001b[0;34m,\u001b[0m \u001b[0mnp\u001b[0m\u001b[0;34m.\u001b[0m\u001b[0mndarray\u001b[0m\u001b[0;34m)\u001b[0m \u001b[0;32melse\u001b[0m \u001b[0mmaybe_arr\u001b[0m\u001b[0;34m\u001b[0m\u001b[0;34m\u001b[0m\u001b[0m\n\u001b[1;32m   1151\u001b[0m \u001b[0;34m\u001b[0m\u001b[0m\n",
            "\u001b[0;32m/usr/local/lib/python3.7/dist-packages/tensorflow/python/framework/ops.py\u001b[0m in \u001b[0;36m_numpy\u001b[0;34m(self)\u001b[0m\n\u001b[1;32m   1113\u001b[0m   \u001b[0;32mdef\u001b[0m \u001b[0m_numpy\u001b[0m\u001b[0;34m(\u001b[0m\u001b[0mself\u001b[0m\u001b[0;34m)\u001b[0m\u001b[0;34m:\u001b[0m\u001b[0;34m\u001b[0m\u001b[0;34m\u001b[0m\u001b[0m\n\u001b[1;32m   1114\u001b[0m     \u001b[0;32mtry\u001b[0m\u001b[0;34m:\u001b[0m\u001b[0;34m\u001b[0m\u001b[0;34m\u001b[0m\u001b[0m\n\u001b[0;32m-> 1115\u001b[0;31m       \u001b[0;32mreturn\u001b[0m \u001b[0mself\u001b[0m\u001b[0;34m.\u001b[0m\u001b[0m_numpy_internal\u001b[0m\u001b[0;34m(\u001b[0m\u001b[0;34m)\u001b[0m\u001b[0;34m\u001b[0m\u001b[0;34m\u001b[0m\u001b[0m\n\u001b[0m\u001b[1;32m   1116\u001b[0m     \u001b[0;32mexcept\u001b[0m \u001b[0mcore\u001b[0m\u001b[0;34m.\u001b[0m\u001b[0m_NotOkStatusException\u001b[0m \u001b[0;32mas\u001b[0m \u001b[0me\u001b[0m\u001b[0;34m:\u001b[0m  \u001b[0;31m# pylint: disable=protected-access\u001b[0m\u001b[0;34m\u001b[0m\u001b[0;34m\u001b[0m\u001b[0m\n\u001b[1;32m   1117\u001b[0m       \u001b[0;32mraise\u001b[0m \u001b[0mcore\u001b[0m\u001b[0;34m.\u001b[0m\u001b[0m_status_to_exception\u001b[0m\u001b[0;34m(\u001b[0m\u001b[0me\u001b[0m\u001b[0;34m)\u001b[0m \u001b[0;32mfrom\u001b[0m \u001b[0;32mNone\u001b[0m  \u001b[0;31m# pylint: disable=protected-access\u001b[0m\u001b[0;34m\u001b[0m\u001b[0;34m\u001b[0m\u001b[0m\n",
            "\u001b[0;31mKeyboardInterrupt\u001b[0m: "
          ]
        }
      ]
    },
    {
      "cell_type": "code",
      "metadata": {
        "id": "5xaRb31OwaI2"
      },
      "source": [
        "# Taken from Adrian Rosebrocks Siamese Networks Tutorial\n",
        "\n",
        "def plot_training(H, plotPath):\n",
        "\t# construct a plot that plots and saves the training history\n",
        "\tplt.style.use(\"ggplot\")\n",
        "\tplt.figure()\n",
        "\tplt.plot(H.history[\"loss\"], label=\"train_loss\")\n",
        "\tplt.plot(H.history[\"val_loss\"], label=\"val_loss\")\n",
        "\tplt.plot(H.history[\"accuracy\"], label=\"train_acc\")\n",
        "\tplt.plot(H.history[\"val_accuracy\"], label=\"val_acc\")\n",
        "\tplt.title(\"Training Loss and Accuracy\")\n",
        "\tplt.xlabel(\"Epoch #\")\n",
        "\tplt.ylabel(\"Loss/Accuracy\")\n",
        "\tplt.legend(loc=\"lower right\")\n",
        "\tplt.savefig(plotPath)"
      ],
      "execution_count": 33,
      "outputs": []
    },
    {
      "cell_type": "code",
      "metadata": {
        "id": "VImSsGTy0wYl",
        "colab": {
          "base_uri": "https://localhost:8080/",
          "height": 353
        },
        "outputId": "a160c73d-ea18-45d5-f78a-6cdf6c18b55c"
      },
      "source": [
        "MODEL_PATH = os.path.sep.join([\"/content/drive/MyDrive/Kaggle\", \"siamese_model\"])\n",
        "PLOT_PATH = os.path.sep.join([\"/content/drive/MyDrive/Kaggle\", \"newVGG1.png\"])\n",
        "\n",
        "\n",
        "print(\"[INFO] saving siamese model...\")\n",
        "model.save(MODEL_PATH)\n",
        "# plot the training history\n",
        "print(\"[INFO] plotting training history...\") \n",
        "plot_training(history, PLOT_PATH)"
      ],
      "execution_count": 34,
      "outputs": [
        {
          "output_type": "stream",
          "name": "stdout",
          "text": [
            "[INFO] saving siamese model...\n",
            "INFO:tensorflow:Assets written to: /content/drive/MyDrive/Kaggle/siamese_model_VGG_DeepCNN/assets\n",
            "[INFO] plotting training history...\n"
          ]
        },
        {
          "output_type": "display_data",
          "data": {
            "image/png": "[encoded data removed]",
            "text/plain": [
              "<Figure size 432x288 with 1 Axes>"
            ]
          },
          "metadata": {}
        }
      ]
    },
    {
      "cell_type": "code",
      "source": [
        "MODEL_PATH = os.path.sep.join([\"/content/drive/MyDrive/Kaggle\", \"siamese_model_VGG\"])\n",
        "\n",
        "from tensorflow.keras.models import load_model\n",
        "model = load_model(MODEL_PATH)"
      ],
      "metadata": {
        "id": "r7OqdPS50qNv"
      },
      "execution_count": null,
      "outputs": []
    },
    {
      "cell_type": "code",
      "metadata": {
        "id": "joxfAGJajNPA"
      },
      "source": [
        "'''\n",
        "To predict, input an image (224, 244, 3)\n",
        "Image will be compared against each class in the dataset\n",
        "<compCount> dictates how many pairs are generated for each class\n",
        "'''\n",
        "def predict(image, compCount, images, labels, idx, siameseModel, unscaledImages, unscaledImage):\n",
        "  if compCount < 1:\n",
        "    compCount = 1\n",
        "  \n",
        "  pairs = []\n",
        "  unscaledPairs = []\n",
        "  \n",
        "  numClasses = len(np.unique(labels))\n",
        "  for classNum in range(numClasses):\n",
        "    # Make <compCount> pairs for each class\n",
        "    pairMaxCount = min(compCount, len(idx[classNum]))\n",
        "    pairs.append([])\n",
        "    unscaledPairs.append([])\n",
        "    for pairCount in range(pairMaxCount):\n",
        "      # Pair image with random image from classNum\n",
        "      # Ideally, we would like to remove the value from \n",
        "      # viables image pairs to prevent duplicate pairs\n",
        "      randomImageIndex = np.random.choice(idx[classNum])\n",
        "      pairs[classNum].append(images[randomImageIndex])\n",
        "      unscaledPairs[classNum].append(unscaledImages[randomImageIndex])\n",
        "  \n",
        "  # Predict\n",
        "  prediction = []\n",
        "  for classNum in range(numClasses):\n",
        "    pairCount = len(pairs[classNum])\n",
        "    total = 0\n",
        "    for pairNum in range(pairCount):\n",
        "      input = [image.reshape(1, 224,224,3), pairs[classNum][pairNum].reshape(1, 224,224,3)]\n",
        "      total += siameseModel.predict(input)[0][0]\n",
        "                              \n",
        "    avg=total/pairCount\n",
        "    prediction.append(avg)\n",
        "\n",
        "  ''' UNCOMMENT TO OUTPUT PAIRS\n",
        "  print(\"Input Image:\")\n",
        "  plt.figure(figsize=(10, 10))\n",
        "  plt.subplot(7, compCount, 1)\n",
        "  unscaledImage = np.array(unscaledImage).astype(\"uint8\") \n",
        "  plt.imshow(unscaledImage, interpolation=\"nearest\")\n",
        "  count = 0\n",
        "  for i, lst in enumerate(unscaledPairs):\n",
        "    print()\n",
        "    for j, pair in enumerate(lst):\n",
        "      count += 1\n",
        "      print(\"Class Name:\", class_names[i], end=\" -> \")\n",
        "      plt.subplot(7, compCount, count + compCount)\n",
        "      pair = np.array(pair).astype(\"uint8\") \n",
        "      plt.imshow(pair, interpolation=\"nearest\")\n",
        "\n",
        "  print()\n",
        "  '''\n",
        "  return prediction"
      ],
      "execution_count": 35,
      "outputs": []
    },
    {
      "cell_type": "code",
      "source": [
        "def plot_imgs(item_dir, title=\" \", num_imgs=4, cmap='viridis'):\n",
        "    all_item_dirs = os.listdir(item_dir)\n",
        "    item_files = [os.path.join(item_dir, file) for file in all_item_dirs][:num_imgs]\n",
        "\n",
        "    plt.figure(figsize=(15, 15))\n",
        "    for idx, img_path in enumerate(item_files):\n",
        "        plt.subplot(8, 8, idx+1)\n",
        "        img = plt.imread(img_path, 0)\n",
        "        plt.title(title)\n",
        "        plt.imshow(img, cmap=cmap)\n",
        "\n",
        "    plt.tight_layout()"
      ],
      "metadata": {
        "id": "Jpj1QPKa69ns"
      },
      "execution_count": 36,
      "outputs": []
    },
    {
      "cell_type": "code",
      "source": [
        "from sklearn.metrics import classification_report, confusion_matrix\n",
        "import seaborn as sns"
      ],
      "metadata": {
        "id": "33Gy8jbeSMnl"
      },
      "execution_count": 37,
      "outputs": []
    },
    {
      "cell_type": "code",
      "source": [
        "'''\n",
        "imageInd = 5\n",
        "originalImage = images[imageInd]\n",
        "predImage = scaledImages[imageInd]\n",
        "predMat = predict(predImage, 5, images, labels, idx, model, images, originalImage)\n",
        "print(\"Labels Matrix:\", class_names)\n",
        "print(\"Prediction Matrix:\", predMat)\n",
        "print(\"Predicted Label:\", class_names[np.argmax(predMat)])\n",
        "print(\"Actual classification:\", class_names[labels[imageInd]])\n",
        "\n",
        "print(\"---------------------------------------------------\")\n",
        "'''\n",
        "compCount = 1\n",
        "labels_pred = []\n",
        "'''\n",
        "This commented out block passes each image into the model and attempts to\n",
        "predict the class\n",
        "Each class prediction\n",
        "for i in range(len(images)):\n",
        "  imageInd = i\n",
        "  originalImage = images[imageInd]\n",
        "  predImage = scaledImages[imageInd]\n",
        "  predMat = predict(predImage, compCount, images, labels, idx, model, images, originalImage)\n",
        "  prediction = np.argmax(predMat)\n",
        "\n",
        "  labels_pred.append(prediction)\n",
        "'''\n",
        "labels_pred = model.predict([pair_test[:, 0], pair_test[:, 1]])\n",
        "print(labels_pred)"
      ],
      "metadata": {
        "colab": {
          "base_uri": "https://localhost:8080/"
        },
        "id": "jXCEgWsq7xzQ",
        "outputId": "7d19b19f-8f19-4e06-aa7f-e6f59d065f52"
      },
      "execution_count": 43,
      "outputs": [
        {
          "output_type": "stream",
          "name": "stdout",
          "text": [
            "[[8.8552952e-01]\n",
            " [1.0948015e-02]\n",
            " [7.0675927e-01]\n",
            " ...\n",
            " [2.5712407e-13]\n",
            " [9.6622944e-01]\n",
            " [5.8413384e-06]]\n"
          ]
        }
      ]
    },
    {
      "cell_type": "code",
      "source": [
        "#matrix1 = confusion_matrix(labels, labels_pred)\n",
        "for i, val in enumerate(labels_pred):\n",
        "  if val < .5:\n",
        "    labels_pred[i] = 0\n",
        "  else:\n",
        "    labels_pred[i] = 1\n",
        "matrix1 = confusion_matrix(label_test, labels_pred)"
      ],
      "metadata": {
        "id": "0rjzl1WpIgEW"
      },
      "execution_count": 44,
      "outputs": []
    },
    {
      "cell_type": "code",
      "source": [
        "#target_names = ['Bishop','King','Rook','Pawn','Queen','Knight']\n",
        "target_names = [\"Different\", \"Same\"]\n",
        "\n",
        "ax= plt.subplot()\n",
        "sns.heatmap(matrix1, annot=True, fmt='g', ax=ax)  #annot=True to annotate cells, ftm='g' to disable scientific notation\n",
        "ax.set_xlabel('Predicted labels');ax.set_ylabel('True labels')\n",
        "ax.set_title('Confusion Matrix')\n",
        "ax.xaxis.set_ticklabels(target_names); ax.yaxis.set_ticklabels(target_names)"
      ],
      "metadata": {
        "colab": {
          "base_uri": "https://localhost:8080/",
          "height": 317
        },
        "id": "kKkOwslvUu12",
        "outputId": "13227b8a-c322-4a2e-dc7d-dc5d417602fd"
      },
      "execution_count": 46,
      "outputs": [
        {
          "output_type": "execute_result",
          "data": {
            "text/plain": [
              "[Text(0, 0.5, 'Different'), Text(0, 1.5, 'Same')]"
            ]
          },
          "metadata": {},
          "execution_count": 46
        },
        {
          "output_type": "display_data",
          "data": {
            "image/png": "[encoded data removed]",
            "text/plain": [
              "<Figure size 432x288 with 2 Axes>"
            ]
          },
          "metadata": {}
        }
      ]
    },
    {
      "cell_type": "code",
      "source": [
        "class_names = ['Bishop', 'King','Knight','Pawn','Queen','Rook']\n",
        "dirname = \"/content/drive/MyDrive/Kaggle/Chessman-image-dataset/Chess\"\n",
        "\n",
        "dir_chess_folders = os.listdir(dirname)\n",
        "dir_chess_paths = [os.path.join(dirname, path) for path in dir_chess_folders]\n",
        "\n",
        "for path in dir_chess_paths:\n",
        "    head, tail = os.path.split(path)\n",
        "    plot_imgs(path, tail, 8)"
      ],
      "metadata": {
        "id": "YQ76_n856nPx"
      },
      "execution_count": null,
      "outputs": []
    }
  ]
}